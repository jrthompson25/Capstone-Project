{
 "cells": [
  {
   "cell_type": "code",
   "execution_count": null,
   "id": "8cc27486",
   "metadata": {},
   "outputs": [],
   "source": [
    "import pandas as pd\n",
    "import seaborn as sns\n",
    "import matplotlib.pyplot as plt"
   ]
  },
  {
   "cell_type": "code",
   "execution_count": null,
   "id": "5f5ec726",
   "metadata": {},
   "outputs": [],
   "source": [
    "restInspectSanFran = pd.read_csv('../data/sanfran_inspections.csv')\n",
    "restInspectSanFran.drop([\"business_address\", \n",
    "                         \"business_phone_number\", \n",
    "                         \"business_latitude\", \n",
    "                         \"business_longitude\", \n",
    "                         \"business_location\", \n",
    "                         \"inspection_id\", \n",
    "                         \"violation_id\", \n",
    "                         \"risk_category\", \n",
    "                         \"Neighborhoods\", \n",
    "                         \"SF Find Neighborhoods\", \n",
    "                         \"Current Police Districts\", \n",
    "                         \"Current Supervisor Districts\", \n",
    "                         \"Analysis Neighborhoods\"], axis = 1, inplace = True)\n",
    "restInspectSanFran"
   ]
  },
  {
   "cell_type": "code",
   "execution_count": null,
   "id": "17b945e9",
   "metadata": {},
   "outputs": [],
   "source": [
    "restInspectSanFran.info()"
   ]
  },
  {
   "cell_type": "code",
   "execution_count": null,
   "id": "c329e5cf",
   "metadata": {},
   "outputs": [],
   "source": [
    "restInspectSanFran.violation_description.unique()"
   ]
  },
  {
   "cell_type": "code",
   "execution_count": null,
   "id": "48202010",
   "metadata": {},
   "outputs": [],
   "source": [
    "restInspectSanFran.inspection_type.unique()"
   ]
  },
  {
   "cell_type": "code",
   "execution_count": null,
   "id": "b8825d88",
   "metadata": {},
   "outputs": [],
   "source": [
    "restInspectSanFran.business_postal_code.nunique()"
   ]
  },
  {
   "cell_type": "code",
   "execution_count": null,
   "id": "4ca92059",
   "metadata": {},
   "outputs": [],
   "source": [
    "restInspectSanFran['inspection_month'] = restInspectSanFran['inspection_date'].str[0:2]\n",
    "restInspectSanFran['inspection_day'] = restInspectSanFran['inspection_date'].str[3:5]\n",
    "restInspectSanFran['inspection_year'] = restInspectSanFran['inspection_date'].str[6:10]\n",
    "restInspectSanFran.head()"
   ]
  },
  {
   "cell_type": "code",
   "execution_count": null,
   "id": "1197f990",
   "metadata": {},
   "outputs": [],
   "source": [
    "#restInspectSanFran['inspection_month'].replace('01', 'Jan', inplace = True)\n",
    "#restInspectSanFran['inspection_month'].replace('02', 'Feb', inplace = True)\n",
    "#restInspectSanFran['inspection_month'].replace('03', 'Mar', inplace = True)\n",
    "#restInspectSanFran['inspection_month'].replace('04', 'Apr', inplace = True)\n",
    "#restInspectSanFran['inspection_month'].replace('05', 'May', inplace = True)\n",
    "#restInspectSanFran['inspection_month'].replace('06', 'Jun', inplace = True)\n",
    "#restInspectSanFran['inspection_month'].replace('07', 'Jul', inplace = True)\n",
    "#restInspectSanFran['inspection_month'].replace('08', 'Aug', inplace = True)\n",
    "#restInspectSanFran['inspection_month'].replace('09', 'Sep', inplace = True)\n",
    "#restInspectSanFran['inspection_month'].replace('10', 'Oct', inplace = True)\n",
    "#restInspectSanFran['inspection_month'].replace('11', 'Nov', inplace = True)\n",
    "#restInspectSanFran['inspection_month'].replace('12', 'Dec', inplace = True)"
   ]
  },
  {
   "cell_type": "code",
   "execution_count": null,
   "id": "1a2b853d",
   "metadata": {},
   "outputs": [],
   "source": [
    "restInspectSanFran.drop([\"inspection_date\"], axis = 1, inplace = True)\n",
    "restInspectSanFran"
   ]
  },
  {
   "cell_type": "code",
   "execution_count": null,
   "id": "c3e67de8",
   "metadata": {},
   "outputs": [],
   "source": [
    "restInspectSanFran.info()"
   ]
  },
  {
   "cell_type": "code",
   "execution_count": null,
   "id": "47f09439",
   "metadata": {},
   "outputs": [],
   "source": [
    "restInspectSanFran.inspection_year.unique()"
   ]
  },
  {
   "cell_type": "code",
   "execution_count": null,
   "id": "aa7e5de4",
   "metadata": {},
   "outputs": [],
   "source": [
    "#Replacement: Handwashing and Toilet Facilities - 1\n",
    "oldString1 = ['Inadequate and inaccessible handwashing facilities']\n",
    "newString1 = 'Handwashing and Toilet Facilities'\n",
    "restInspectSanFran['violation_description'].replace(oldString1, newString1, inplace=True)\n",
    "restInspectSanFran.head(60)"
   ]
  },
  {
   "cell_type": "code",
   "execution_count": null,
   "id": "8d61424c",
   "metadata": {},
   "outputs": [],
   "source": [
    "#Replacement: Employee Health - 2\n",
    "oldString2 = ['Unclean hands or improper use of gloves',\n",
    "              'Discharge from employee nose mouth or eye']\n",
    "newString2 = 'Employee Health'\n",
    "restInspectSanFran['violation_description'].replace(oldString2, newString2, inplace=True)\n",
    "restInspectSanFran.head(60)"
   ]
  },
  {
   "cell_type": "code",
   "execution_count": null,
   "id": "881cf4be",
   "metadata": {},
   "outputs": [],
   "source": [
    "#Replacement: Temperature Control Procedures and checking the dataframe - 3\n",
    "oldString3 = ['Moderate risk food holding temperature',\n",
    "              'Improper cooling methods', \n",
    "              'Improper thawing methods',\n",
    "              'Improper reheating of food',\n",
    "              'High risk food holding temperature',\n",
    "              'Improper cooking time or temperatures']\n",
    "newString3 = 'Temperature Control Procedures'\n",
    "restInspectSanFran['violation_description'].replace(oldString3, newString3, inplace=True)\n",
    "restInspectSanFran.head(40)"
   ]
  },
  {
   "cell_type": "code",
   "execution_count": null,
   "id": "1286fd92",
   "metadata": {},
   "outputs": [],
   "source": [
    "#Replacement: Approved Source and checking the dataframe - 4\n",
    "oldString4 = ['Unapproved food source']\n",
    "newString4 = 'Approved Source'\n",
    "restInspectSanFran['violation_description'].replace(oldString4, newString4, inplace=True)\n",
    "restInspectSanFran"
   ]
  },
  {
   "cell_type": "code",
   "execution_count": null,
   "id": "a4316acc",
   "metadata": {},
   "outputs": [],
   "source": [
    "#Replacement: Water, Sewage, Plumbing Systems - 5\n",
    "oldString5 = ['Improper or defective plumbing',\n",
    "              'Insufficient hot water or running water',\n",
    "              'Inadequate sewage or wastewater disposal',\n",
    "              'No hot water or running water', \n",
    "              'Sewage or wastewater contamination']\n",
    "newString5 = 'Water, Sewage, Plumbing Systems'\n",
    "restInspectSanFran['violation_description'].replace(oldString5, newString5, inplace=True)\n",
    "restInspectSanFran.head(60)"
   ]
  },
  {
   "cell_type": "code",
   "execution_count": null,
   "id": "0d4616de",
   "metadata": {},
   "outputs": [],
   "source": [
    "#Replacement: Cleaning of Equipment and Utensils - 6\n",
    "oldString6 = ['Unclean nonfood contact surfaces',\n",
    "              'Unapproved or unmaintained equipment or utensils',\n",
    "              'Wiping cloths not clean or properly stored or inadequate sanitizer',\n",
    "              'Inadequately cleaned or sanitized food contact surfaces',\n",
    "              'Unclean or unsanitary food contact surfaces',\n",
    "              'Inadequate warewashing facilities or equipment'\n",
    "]\n",
    "newString6 = 'Cleaning of Equipment and Utensils'\n",
    "restInspectSanFran['violation_description'].replace(oldString6, newString6, inplace=True)\n",
    "restInspectSanFran.head(60)"
   ]
  },
  {
   "cell_type": "code",
   "execution_count": null,
   "id": "74b40b36",
   "metadata": {},
   "outputs": [],
   "source": [
    "#Replacement: Pest Control - 7\n",
    "oldString7 = ['High risk vermin infestation',\n",
    "              'Non service animal',\n",
    "              'Low risk vermin infestation', \n",
    "              'Moderate risk vermin infestation']\n",
    "newString7 = 'Pest Control'\n",
    "restInspectSanFran['violation_description'].replace(oldString7, newString7, inplace=True)\n",
    "restInspectSanFran.head(60)"
   ]
  },
  {
   "cell_type": "code",
   "execution_count": null,
   "id": "6237d4ee",
   "metadata": {},
   "outputs": [],
   "source": [
    "#Replacement: Wholesome, Free of Spoilage - 8\n",
    "oldString8 = ['Food in poor condition', \n",
    "              'Contaminated or adulterated food']\n",
    "newString8 = 'Wholesome, Free of Spoilage'\n",
    "restInspectSanFran['violation_description'].replace(oldString8, newString8, inplace=True)\n",
    "restInspectSanFran.head(60)"
   ]
  },
  {
   "cell_type": "code",
   "execution_count": null,
   "id": "3823f818",
   "metadata": {},
   "outputs": [],
   "source": [
    "#Replacement: Consumer Advisory for Service of Raw/Undercooked Animal Foods - 9\n",
    "oldString9 = 'Consumer advisory not provided for raw or undercooked foods'\n",
    "newString9 = 'Consumer Advisory for Service of Raw/Undercooked Animal Foods'\n",
    "restInspectSanFran['violation_description'].replace(oldString9, newString9, inplace=True)\n",
    "restInspectSanFran.head(60)"
   ]
  },
  {
   "cell_type": "code",
   "execution_count": null,
   "id": "46dcc9e7",
   "metadata": {},
   "outputs": [],
   "source": [
    "#Replacement: Utensils, Single-service Articles - 10\n",
    "oldString10 = 'Improper storage of equipment utensils or linens'\n",
    "newString10 = 'Utensils, Single-service Articles'\n",
    "restInspectSanFran['violation_description'].replace(oldString10, newString10, inplace=True)\n",
    "restInspectSanFran.head(60)"
   ]
  },
  {
   "cell_type": "code",
   "execution_count": null,
   "id": "f0e6dc79",
   "metadata": {},
   "outputs": [],
   "source": [
    "#Replacement: Physical Facilities - 11\n",
    "oldString11 = ['Inadequate ventilation or lighting',\n",
    "               'Unclean or degraded floors walls or ceilings',\n",
    "               'Inadequate dressing rooms or improper storage of personal items',\n",
    "               'Unclean unmaintained or improperly constructed toilet facilities',\n",
    "               'Inadequate or unsanitary refuse containers or area or no garbage service',\n",
    "               'Unapproved living quarters in food facility',\n",
    "               'Mobile food facility stored in unapproved location',\n",
    "               'Mobile food facility with unapproved operating conditions',\n",
    "               'Mobile food facility not operating with an approved commissary',\n",
    "               'No restroom facility within 200 feet of mobile food facility']\n",
    "newString11 = 'Physical Facilities'\n",
    "restInspectSanFran['violation_description'].replace(oldString11, newString11, inplace=True)\n",
    "restInspectSanFran.head(60)"
   ]
  },
  {
   "cell_type": "code",
   "execution_count": null,
   "id": "095ef6d2",
   "metadata": {},
   "outputs": [],
   "source": [
    "#Replacement: Temperature Control Equipment - 12\n",
    "oldString12 = ['No thermometers or uncalibrated thermometers']\n",
    "newString12 = 'Temperature Control Equipment'\n",
    "restInspectSanFran['violation_description'].replace(oldString12, newString12, inplace=True)\n",
    "restInspectSanFran.head(60)"
   ]
  },
  {
   "cell_type": "code",
   "execution_count": null,
   "id": "002b04ad",
   "metadata": {},
   "outputs": [],
   "source": [
    "#Replacement: Food Labeling, Food Protection - 13\n",
    "oldString13 = ['Improper food storage', \n",
    "               'Foods not protected from contamination',\n",
    "               'Improper food labeling or menu misrepresentation']\n",
    "newString13 = 'Food Labeling, Food Protection'\n",
    "restInspectSanFran['violation_description'].replace(oldString13, newString13, inplace=True)\n",
    "restInspectSanFran.head(60)"
   ]
  },
  {
   "cell_type": "code",
   "execution_count": null,
   "id": "5231f1d4",
   "metadata": {},
   "outputs": [],
   "source": [
    "#Replacement: Date Marking - 14\n",
    "oldString14 = ['Inadequate procedures or records for time as a public health control',\n",
    "               'Unauthorized or unsafe use of time as a public health control measure']\n",
    "newString14 = 'Date Marking'\n",
    "restInspectSanFran['violation_description'].replace(oldString14, newString14, inplace=True)\n",
    "restInspectSanFran.head(60)"
   ]
  },
  {
   "cell_type": "code",
   "execution_count": null,
   "id": "961e9653",
   "metadata": {},
   "outputs": [],
   "source": [
    "#Replacement: Hygenic Practices - 15\n",
    "oldString15 = ['Employee eating or smoking', 'Unsanitary employee garments hair or nails']\n",
    "newString15 = 'Hygenic Practices'\n",
    "restInspectSanFran['violation_description'].replace(oldString15, newString15, inplace=True)\n",
    "restInspectSanFran.head(60)"
   ]
  },
  {
   "cell_type": "code",
   "execution_count": null,
   "id": "9352f8ed",
   "metadata": {},
   "outputs": [],
   "source": [
    "#Replacement: Poisonous or Toxic Items - 16\n",
    "oldString16 = ['Improper storage use or identification of toxic substances']\n",
    "newString16 = 'Poisonous or Toxic Items'\n",
    "restInspectSanFran['violation_description'].replace(oldString16, newString16, inplace=True)\n",
    "restInspectSanFran.head(60)"
   ]
  },
  {
   "cell_type": "code",
   "execution_count": null,
   "id": "d4d6e343",
   "metadata": {},
   "outputs": [],
   "source": [
    "#Replacement: Cross-contamination - 17\n",
    "oldString17 = ['Reservice of previously served foods', 'Improperly washed fruits and vegetables']\n",
    "newString17 = 'Cross-contamination'\n",
    "restInspectSanFran['violation_description'].replace(oldString17, newString17, inplace=True)\n",
    "restInspectSanFran.head(60)"
   ]
  },
  {
   "cell_type": "code",
   "execution_count": null,
   "id": "3d095146",
   "metadata": {},
   "outputs": [],
   "source": [
    "#Replacement: Demonstration of Knowledge - 18\n",
    "oldString18 = ['Food safety certificate or food handler card not available',\n",
    "               'Inadequate food safety knowledge or lack of certified food safety manager']\n",
    "newString18 = 'Demonstration of Knowledge'\n",
    "restInspectSanFran['violation_description'].replace(oldString18, newString18, inplace=True)\n",
    "restInspectSanFran.head(60)"
   ]
  },
  {
   "cell_type": "code",
   "execution_count": null,
   "id": "5ff37d59",
   "metadata": {},
   "outputs": [],
   "source": [
    "#Replacement: Hazard Analysis Critical Control Point (HACCP) Plan - 19\n",
    "oldString19 = ['Noncompliance with HAACP plan or variance',\n",
    "               'Noncompliance with shell fish tags or display',\n",
    "               'Inadequate HACCP plan record keeping', \n",
    "               'Noncompliance with Gulf Coast oyster regulation']\n",
    "newString19 = 'HACCP Plan'\n",
    "restInspectSanFran['violation_description'].replace(oldString19, newString19, inplace=True)\n",
    "restInspectSanFran.head(60)"
   ]
  },
  {
   "cell_type": "code",
   "execution_count": null,
   "id": "c9ec90a2",
   "metadata": {},
   "outputs": [],
   "source": [
    "dropString = ['Other low risk violation',\n",
    "              'Permit license or inspection report not posted',\n",
    "              'No plan review or Building Permit',\n",
    "              'Unpermitted food facility',\n",
    "              'Other moderate risk violation',\n",
    "              'No person in charge of food facility',\n",
    "              'Other high risk violation',\n",
    "              'Worker safety hazards',\n",
    "              'Improperly displayed mobile food permit or signage',\n",
    "              'Unapproved  living quarters in food facility']\n",
    "restInspectSanFran_df = restInspectSanFran[restInspectSanFran.violation_description.isin(dropString) == False]\n",
    "restInspectSanFran_df"
   ]
  },
  {
   "cell_type": "code",
   "execution_count": null,
   "id": "87aa6d48",
   "metadata": {},
   "outputs": [],
   "source": [
    "restInspectSanFran_df.info()"
   ]
  },
  {
   "cell_type": "code",
   "execution_count": null,
   "id": "312d5995",
   "metadata": {},
   "outputs": [],
   "source": [
    "restInspectSanFran_df.violation_description.unique()"
   ]
  },
  {
   "cell_type": "code",
   "execution_count": null,
   "id": "b9df00f1",
   "metadata": {},
   "outputs": [],
   "source": [
    "restInspectSanFran_df['inspection_type'].unique()"
   ]
  },
  {
   "cell_type": "code",
   "execution_count": null,
   "id": "91852969",
   "metadata": {},
   "outputs": [],
   "source": [
    "#Inspection Type Replacements\n",
    "restInspectSanFran_df['inspection_type'].replace('Routine - Unscheduled', 'Regular', inplace=True)\n",
    "restInspectSanFran_df['inspection_type'].replace('Routine - Scheduled', 'Regular', inplace=True)\n",
    "restInspectSanFran_df['inspection_type'].replace('Reinspection/Followup', 'Reinspection', inplace=True)\n",
    "restInspectSanFran_df['inspection_type'].replace('New Ownership', 'Change of Ownership', inplace=True)\n",
    "restInspectSanFran_df['inspection_type'].replace('New Construction', 'Opening', inplace=True)\n",
    "restInspectSanFran_df['inspection_type'].replace('New Ownership - Followup', 'Follow Up', inplace=True)\n",
    "restInspectSanFran_df['inspection_type'].replace('Structural Inspection', 'Other', inplace=True)\n",
    "restInspectSanFran_df['inspection_type'].replace('Non-inspection site visit', 'Enforcement', inplace=True)\n",
    "restInspectSanFran_df['inspection_type'].replace('Special Event', 'Other', inplace=True)\n",
    "restInspectSanFran_df['inspection_type'].replace('Multi-agency Investigation', 'Enforcement', inplace=True)\n",
    "restInspectSanFran_df['inspection_type'].replace('Community Health Assessment', 'Other', inplace=True)\n",
    "restInspectSanFran_df['inspection_type'].replace('Complaint Reinspection/Followup', 'Complaint Reinspection/Follow up', inplace=True)\n",
    "restInspectSanFran_df.head(60)"
   ]
  },
  {
   "cell_type": "code",
   "execution_count": null,
   "id": "15ddea4b",
   "metadata": {},
   "outputs": [],
   "source": [
    "restInspectSanFran_df['inspection_type'].unique()"
   ]
  },
  {
   "cell_type": "code",
   "execution_count": null,
   "id": "a90b3f12",
   "metadata": {},
   "outputs": [],
   "source": [
    "restInspectSanFran_df = restInspectSanFran_df.drop_duplicates()"
   ]
  },
  {
   "cell_type": "code",
   "execution_count": null,
   "id": "37b070e7",
   "metadata": {},
   "outputs": [],
   "source": [
    "restInspectSanFran_df = restInspectSanFran_df.dropna()"
   ]
  },
  {
   "cell_type": "code",
   "execution_count": null,
   "id": "48a07595",
   "metadata": {},
   "outputs": [],
   "source": [
    "restInspectSanFran_df.info()"
   ]
  },
  {
   "cell_type": "code",
   "execution_count": null,
   "id": "743068a6",
   "metadata": {},
   "outputs": [],
   "source": [
    "#Number of restaurants\n",
    "restInspectSanFran_df.business_id.nunique()"
   ]
  },
  {
   "cell_type": "code",
   "execution_count": null,
   "id": "97e4c113",
   "metadata": {},
   "outputs": [],
   "source": [
    "restInspectSanFran_df.rename(columns = {'business_postal_code': 'postal_code', 'business_state':'state', 'business_city' : 'city'}, inplace=True)\n",
    "restInspectSanFran_df"
   ]
  },
  {
   "cell_type": "code",
   "execution_count": null,
   "id": "09c9b722",
   "metadata": {},
   "outputs": [],
   "source": [
    "zipCodes = pd.read_csv('../data/uszips_cleaned.csv')\n",
    "zipCodes['zip'] = zipCodes['zip'].astype(str)\n",
    "zipCodes['zip'].dtypes"
   ]
  },
  {
   "cell_type": "code",
   "execution_count": null,
   "id": "48d7d40f",
   "metadata": {},
   "outputs": [],
   "source": [
    "zipCodes.rename(columns = {'zip': 'postal_code', 'state_id':'state'}, inplace=True)\n",
    "zipCodes"
   ]
  },
  {
   "cell_type": "code",
   "execution_count": null,
   "id": "416caef3",
   "metadata": {},
   "outputs": [],
   "source": [
    "sanFranInspectsAndZips = pd.merge(restInspectSanFran_df, zipCodes, how='left', on=['postal_code', 'state'])\n",
    "sanFranInspectsAndZips"
   ]
  },
  {
   "cell_type": "code",
   "execution_count": null,
   "id": "719e902b",
   "metadata": {},
   "outputs": [],
   "source": [
    "sanFranInspectsAndZips.inspection_type.unique()"
   ]
  },
  {
   "cell_type": "code",
   "execution_count": null,
   "id": "95649bbb",
   "metadata": {},
   "outputs": [],
   "source": [
    "incorrectPostalCodes = ['CA', 'Ca']\n",
    "sanFranInspectsAndZips = sanFranInspectsAndZips[sanFranInspectsAndZips.postal_code.isin(incorrectPostalCodes) == False]\n",
    "sanFranInspectsAndZips.drop(['city_y', 'county_name'], axis = 1, inplace = True)\n",
    "sanFranInspectsAndZips.rename(columns = {'city_x' : 'city', 'population': 'city_population'}, inplace = True)\n",
    "sanFranInspectsAndZips"
   ]
  },
  {
   "cell_type": "code",
   "execution_count": null,
   "id": "7b4100da",
   "metadata": {},
   "outputs": [],
   "source": [
    "sanFranInspectsAndZips['city'] = sanFranInspectsAndZips['city'].str.upper()\n",
    "sanFranInspectsAndZips"
   ]
  },
  {
   "cell_type": "code",
   "execution_count": null,
   "id": "6ec7a17f",
   "metadata": {},
   "outputs": [],
   "source": [
    "sanFranInspectsAndZips['city_population'] = sanFranInspectsAndZips['city_population'].fillna(0)\n",
    "sanFranInspectsAndZips['city_population'] = sanFranInspectsAndZips['city_population'].astype(int)\n",
    "sanFranInspectsAndZips['density'] = sanFranInspectsAndZips['density'].fillna(0)\n",
    "sanFranInspectsAndZips['density'] = sanFranInspectsAndZips['density'].astype(int)\n",
    "sanFranInspectsAndZips['inspection_score'] = sanFranInspectsAndZips['inspection_score'].astype(int)\n",
    "sanFranInspectsAndZips['postal_code'] = sanFranInspectsAndZips['postal_code'].str[0:5]\n",
    "sanFranInspectsAndZips"
   ]
  },
  {
   "cell_type": "code",
   "execution_count": null,
   "id": "d6ca4c88",
   "metadata": {},
   "outputs": [],
   "source": [
    "sanFranInspectsAndZips.drop_duplicates()"
   ]
  },
  {
   "cell_type": "code",
   "execution_count": null,
   "id": "18698b9e",
   "metadata": {},
   "outputs": [],
   "source": [
    "sanFranInspectsAndZips.dropna()"
   ]
  },
  {
   "cell_type": "code",
   "execution_count": null,
   "id": "5409ab2c",
   "metadata": {},
   "outputs": [],
   "source": [
    "sanFranInspectsAndZips.info()"
   ]
  },
  {
   "cell_type": "code",
   "execution_count": null,
   "id": "439e5859",
   "metadata": {},
   "outputs": [],
   "source": [
    "#Number of restuarants locations - based on business id\n",
    "sanFranInspectsAndZips.business_id.nunique()"
   ]
  },
  {
   "cell_type": "code",
   "execution_count": null,
   "id": "6155c7c9",
   "metadata": {},
   "outputs": [],
   "source": [
    "#Number of different restaurant names. I'm thinking the reason this one is different that the amount \n",
    "#above is you can have two of the same restaurant but different ids for different locations.\n",
    "sanFranInspectsAndZips.business_name.nunique()"
   ]
  },
  {
   "cell_type": "code",
   "execution_count": null,
   "id": "d938736a",
   "metadata": {},
   "outputs": [],
   "source": [
    "#Amount of different postal codes in this dataset for San Francisco\n",
    "sanFranInspectsAndZips.postal_code.nunique()"
   ]
  },
  {
   "cell_type": "code",
   "execution_count": null,
   "id": "94e87cdf",
   "metadata": {},
   "outputs": [],
   "source": [
    "#Number of restaurants per postal code\n",
    "restaurantsPerPostalCodeCount = sanFranInspectsAndZips.groupby(['postal_code'])['business_id'].nunique()\n",
    "restaurantsPerPostalCodeCount = restaurantsPerPostalCodeCount.drop(restaurantsPerPostalCodeCount.index[-1])\n",
    "restaurantsPerPostalCodeCount = restaurantsPerPostalCodeCount.drop(restaurantsPerPostalCodeCount.index[-1])\n",
    "restaurantsPerPostalCodeCount_df = pd.DataFrame(restaurantsPerPostalCodeCount).reset_index()\n",
    "restaurantsPerPostalCodeCount_df = restaurantsPerPostalCodeCount_df.rename(columns={'business_id': 'restaurant_count'})\n",
    "restaurantsPerPostalCodeCount_df.sort_values(by=['restaurant_count'], ascending=False, inplace=True)\n",
    "restaurantsPerPostalCodeCount_df"
   ]
  },
  {
   "cell_type": "code",
   "execution_count": null,
   "id": "c5d5035a",
   "metadata": {},
   "outputs": [],
   "source": [
    "#Number of restaurants per postal code\n",
    "restaurantsPerPostalCodeCount = sanFranInspectsAndZips.groupby(['postal_code','business_name'])['business_id'].nunique()\n",
    "restaurantsPerPostalCodeCount_df = pd.DataFrame(restaurantsPerPostalCodeCount).reset_index()\n",
    "restaurantsPerPostalCodeCount_df = restaurantsPerPostalCodeCount_df.rename(columns={'business_id': 'restaurant_count'})\n",
    "restaurantsPerPostalCodeCount_df.sort_values(by=['restaurant_count'], ascending=False, inplace=True)\n",
    "restaurantsPerPostalCodeCount_df"
   ]
  },
  {
   "cell_type": "code",
   "execution_count": null,
   "id": "e28a7fc2",
   "metadata": {},
   "outputs": [],
   "source": [
    "#Inspections in the dataset that have a score greater than 90 \n",
    "above90_df = pd.DataFrame(sanFranInspectsAndZips[sanFranInspectsAndZips['inspection_score'] >= 90].value_counts()) \n",
    "above90_df"
   ]
  },
  {
   "cell_type": "code",
   "execution_count": null,
   "id": "931c66b9",
   "metadata": {},
   "outputs": [],
   "source": [
    "#Inspections in the dataset that have a score between 80 and 89 \n",
    "between80And89_df = pd.DataFrame(sanFranInspectsAndZips[sanFranInspectsAndZips['inspection_score'].between(80, 89)].value_counts())\n",
    "between80And89_df"
   ]
  },
  {
   "cell_type": "code",
   "execution_count": null,
   "id": "abf8b23b",
   "metadata": {},
   "outputs": [],
   "source": [
    "#Inspections in the dataset that have a score between 70 and 79\n",
    "between70And79_df = pd.DataFrame(sanFranInspectsAndZips[sanFranInspectsAndZips['inspection_score'].between(70, 79)].value_counts())\n",
    "between70And79_df"
   ]
  },
  {
   "cell_type": "code",
   "execution_count": null,
   "id": "68df910a",
   "metadata": {},
   "outputs": [],
   "source": [
    "#Inspections in the dataset that have a score between 60 and 69\n",
    "between60And69_df = pd.DataFrame(sanFranInspectsAndZips[sanFranInspectsAndZips['inspection_score'].between(60, 69)].value_counts())\n",
    "between60And69_df"
   ]
  },
  {
   "cell_type": "code",
   "execution_count": null,
   "id": "f366ceb1",
   "metadata": {},
   "outputs": [],
   "source": [
    "#Inspections in the dataset that have a score between 50 and 59\n",
    "between50And59_df = pd.DataFrame(sanFranInspectsAndZips[sanFranInspectsAndZips['inspection_score'].between(50, 59)].value_counts())\n",
    "between50And59_df"
   ]
  },
  {
   "cell_type": "code",
   "execution_count": null,
   "id": "e85cf07e",
   "metadata": {},
   "outputs": [],
   "source": [
    "#Inspections in the dataset that have a score between 40 and 49\n",
    "between40And49_df = pd.DataFrame(sanFranInspectsAndZips[sanFranInspectsAndZips['inspection_score'].between(40, 49)].value_counts())\n",
    "between40And49_df"
   ]
  },
  {
   "cell_type": "code",
   "execution_count": null,
   "id": "906d997d",
   "metadata": {},
   "outputs": [],
   "source": [
    "#Inspections in the dataset that have a score between 30 and 39\n",
    "between30And39_df = pd.DataFrame(sanFranInspectsAndZips[sanFranInspectsAndZips['inspection_score'].between(30, 39)].value_counts())\n",
    "between30And39_df"
   ]
  },
  {
   "cell_type": "code",
   "execution_count": null,
   "id": "b0a5d740",
   "metadata": {},
   "outputs": [],
   "source": [
    "#Inspections in the dataset that have a score between 20 and 29\n",
    "between20And29_df = pd.DataFrame(sanFranInspectsAndZips[sanFranInspectsAndZips['inspection_score'].between(20, 29)].value_counts())\n",
    "between20And29_df"
   ]
  },
  {
   "cell_type": "code",
   "execution_count": null,
   "id": "42bed7f7",
   "metadata": {},
   "outputs": [],
   "source": [
    "#Inspections in the dataset that have a score between 10 and 19\n",
    "between10And19_df = pd.DataFrame(sanFranInspectsAndZips[sanFranInspectsAndZips['inspection_score'].between(10, 19)].value_counts())\n",
    "between10And19_df"
   ]
  },
  {
   "cell_type": "code",
   "execution_count": null,
   "id": "0857901c",
   "metadata": {},
   "outputs": [],
   "source": [
    "#Inspections in the dataset that have a score between 0 and 9\n",
    "between0And9_df = pd.DataFrame(sanFranInspectsAndZips[sanFranInspectsAndZips['inspection_score'].between(0, 9)].value_counts())\n",
    "between0And9_df"
   ]
  },
  {
   "cell_type": "code",
   "execution_count": null,
   "id": "6d28b4fb",
   "metadata": {},
   "outputs": [],
   "source": [
    "inspectionTypesByRestaurant_df = sanFranInspectsAndZips.groupby(['business_id', 'business_name'])['inspection_type'].value_counts().to_frame()\n",
    "inspectionTypesByRestaurant_df\n"
   ]
  },
  {
   "cell_type": "code",
   "execution_count": null,
   "id": "7649b602",
   "metadata": {},
   "outputs": [],
   "source": [
    "violationDescrByRestaurant_df = sanFranInspectsAndZips.groupby(['business_id', 'business_name'])['violation_description'].value_counts().to_frame()\n",
    "violationDescrByRestaurant_df"
   ]
  },
  {
   "cell_type": "code",
   "execution_count": null,
   "id": "b2bc4dac",
   "metadata": {},
   "outputs": [],
   "source": [
    "#Total Inspections per year\n",
    "inspectionsPerYear = sanFranInspectsAndZips['inspection_year'].value_counts()\n",
    "inspectionsPerYear_df = pd.DataFrame(inspectionsPerYear).reset_index()\n",
    "inspectionsPerYear_df = inspectionsPerYear_df.rename(columns={'index':'year', 'inspection_year': 'inspection_count'})\n",
    "inspectionsPerYear_df\n"
   ]
  },
  {
   "cell_type": "code",
   "execution_count": null,
   "id": "0175a23c",
   "metadata": {},
   "outputs": [],
   "source": [
    "#Inspections per zip and month for 2016\n",
    "\n",
    "inspections2016 =  sanFranInspectsAndZips.loc[sanFranInspectsAndZips['inspection_year'].isin(['2016'])]\n",
    "inspectionsBy2016 = inspections2016.groupby(['postal_code','inspection_month'])['business_id'].count()\n",
    "inspectionsBy2016.reset_index()\n",
    "inspectionsBy2016_df = pd.DataFrame(inspectionsBy2016)                                 \n",
    "inspectionsBy2016_df"
   ]
  },
  {
   "cell_type": "code",
   "execution_count": null,
   "id": "7fc14a60",
   "metadata": {},
   "outputs": [],
   "source": [
    "#Inspections per zip and month for 2017\n",
    "inspections2017 =  sanFranInspectsAndZips.loc[sanFranInspectsAndZips['inspection_year'].isin(['2017'])]\n",
    "inspectionsBy2017 = sanFranInspectsAndZips.groupby(['postal_code','inspection_month'])['business_id'].count()\n",
    "inspectionsBy2017.reset_index()\n",
    "inspectionsBy2017_df = pd.DataFrame(inspectionsBy2017)                                 \n",
    "inspectionsBy2017_df"
   ]
  },
  {
   "cell_type": "code",
   "execution_count": null,
   "id": "582cb4ea",
   "metadata": {},
   "outputs": [],
   "source": [
    "#Inspections per zip and month for 2018\n",
    "inspections2018 =  sanFranInspectsAndZips.loc[sanFranInspectsAndZips['inspection_year'].isin(['2018'])]\n",
    "inspectionsBy2018 = inspections2018.groupby(['postal_code','inspection_month'])['business_id'].count()\n",
    "inspectionsBy2018.reset_index()\n",
    "inspectionsBy2018_df = pd.DataFrame(inspectionsBy2018)                                 \n",
    "inspectionsBy2018_df"
   ]
  },
  {
   "cell_type": "code",
   "execution_count": null,
   "id": "5759fb76",
   "metadata": {},
   "outputs": [],
   "source": [
    "#Inspections per zip and month for 2019\n",
    "inspections2019 =  sanFranInspectsAndZips.loc[sanFranInspectsAndZips['inspection_year'].isin(['2019'])]\n",
    "inspectionsBy2019 = inspections2019.groupby(['postal_code','inspection_month'])['business_id'].count()\n",
    "inspectionsBy2019.reset_index()\n",
    "inspectionsBy2019_df = pd.DataFrame(inspectionsBy2019)                                 \n",
    "inspectionsBy2019_df"
   ]
  },
  {
   "cell_type": "code",
   "execution_count": null,
   "id": "35d7c5c0",
   "metadata": {},
   "outputs": [],
   "source": [
    "#Total inspection for each year and postal code\n",
    "inspectionsPerZipAndYear = sanFranInspectsAndZips.groupby(['postal_code', 'inspection_year'])['business_id'].count()\n",
    "inspectionsPerZipAndYear_df = pd.DataFrame(inspectionsPerZipAndYear)\n",
    "#inspectionsPerZipAndYear_df = inspectionsPerZipAndYear_df.rename(columns={'index':'year', 'inspection_year': 'inspection_count'})\n",
    "inspectionsPerZipAndYear_df"
   ]
  },
  {
   "cell_type": "code",
   "execution_count": null,
   "id": "d4484f71",
   "metadata": {},
   "outputs": [],
   "source": [
    "#Average Inspections per restaurant for years 2016 - 2019\n",
    "\n",
    "#business_name_count = sanFranInspectsAndZips['business_name'].count()\n",
    "#business_id_count = sanFranInspectsAndZips['business_id'].nunique()\n",
    "#inspectionsPerYearMean = common_years.groupby('inspection_year')[business_id_count/business_name_count * 100]\n",
    "\n",
    "#inspectionsPerYearMean = common_years.groupby('inspection_year')[['business_id'].nunique()/['business_name'].count()] * 100\n",
    "#inspectionsPerYearMean"
   ]
  },
  {
   "cell_type": "code",
   "execution_count": null,
   "id": "2d08be02",
   "metadata": {},
   "outputs": [],
   "source": [
    "#Inspections per zip and year\n",
    "inspectionsPerZipAndYear = sanFranInspectsAndZips.groupby(['inspection_year', 'business_name'])['inspection_score'].count()\n",
    "inspectionsPerZipAndYear_df = pd.DataFrame(inspectionsPerZipAndYear)\n",
    "inspectionsPerZipAndYear_df"
   ]
  },
  {
   "cell_type": "code",
   "execution_count": null,
   "id": "3776b624",
   "metadata": {},
   "outputs": [],
   "source": [
    "#Population per zip\n",
    "popPerZip = sanFranInspectsAndZips.groupby('postal_code')['city_population'].value_counts().to_frame()\n",
    "popPerZip = popPerZip.drop(popPerZip.index[-4])\n",
    "popPerZip = popPerZip.drop(popPerZip.index[-8])\n",
    "popPerZip = popPerZip.drop(popPerZip.index[-9])\n",
    "popPerZip = popPerZip.drop(popPerZip.index[-15])\n",
    "popPerZip = popPerZip.drop(popPerZip.index[-17])\n",
    "popPerZip = popPerZip.drop(popPerZip.index[-19])\n",
    "popPerZip = popPerZip.drop(popPerZip.index[-20])\n",
    "popPerZip = popPerZip.drop(popPerZip.index[-26])\n",
    "popPerZip = popPerZip.drop(popPerZip.index[0])\n",
    "popPerZip = popPerZip.drop(popPerZip.index[0])\n",
    "popPerZip = popPerZip.drop(popPerZip.index[1])\n",
    "popPerZip = popPerZip.drop(popPerZip.index[2])\n",
    "popPerZip = popPerZip.drop(popPerZip.index[2])\n",
    "popPerZip = popPerZip.drop(popPerZip.index[4])\n",
    "popPerZip = popPerZip = popPerZip.rename(columns={'city_population': 'count'})\n",
    "popPerZip = popPerZip.reset_index()\n",
    "\n",
    "popPerZip.sort_values(by=['city_population'], ascending=False, inplace=True)\n",
    "popPerZip = popPerZip.drop(['count'], axis=1)\n",
    "popPerZip\n"
   ]
  },
  {
   "cell_type": "code",
   "execution_count": null,
   "id": "e06b7d7b",
   "metadata": {},
   "outputs": [],
   "source": [
    "#uniqueZips = sanFranInspectsAndZips.postal_code.unique()\n",
    "#uniqueZips"
   ]
  },
  {
   "cell_type": "code",
   "execution_count": null,
   "id": "3ee08081",
   "metadata": {},
   "outputs": [],
   "source": [
    "#uniquePops_df = sanFranInspectsAndZips.groupby('postal_code')['city_population'].value_counts()#.sort_values(['city_population'], ascending=False)\n",
    "#uniquePops_df\n",
    "\n",
    "#genre_streams_avg = mlcGenresRoyalties_df.groupby('Genre', as_index=False)[['Streams']].mean().sort_values(['Streams'],ascending=False)\n",
    "\n",
    "\n",
    "\n"
   ]
  },
  {
   "cell_type": "code",
   "execution_count": null,
   "id": "c5d4e870",
   "metadata": {},
   "outputs": [],
   "source": [
    "popPerZipSum = popPerZip['city_population'].sum()\n",
    "popPerZipSum"
   ]
  },
  {
   "cell_type": "code",
   "execution_count": null,
   "id": "367447b0",
   "metadata": {},
   "outputs": [],
   "source": [
    "#Average Score for Top 10 Zips based on population\n",
    "zipPopScore = sanFranInspectsAndZips[sanFranInspectsAndZips['inspection_year'].isin(['2016', '2017', '2018', '2019'])]\n",
    "zipPopScore_df = zipPopScore.groupby(['postal_code', 'city_population'])['inspection_score'].mean().to_frame()\n",
    "zipPopScore_df = zipPopScore_df.reset_index()\n",
    "zipPopScore_df = zipPopScore_df.rename(columns={'inspection_score': 'average_score'})\n",
    "zipPopScore_df = zipPopScore_df.sort_values(by='city_population', ascending=False)\n",
    "top5zipPopScore_df = zipPopScore_df.head()\n",
    "top5zipPopScore_df\n",
    "\n",
    "sns.scatterplot(data=top5zipPopScore_df, x=\"city_population\", y=\"average_score\", hue='postal_code', palette='ch:s=.25,rot=-.25');"
   ]
  },
  {
   "cell_type": "code",
   "execution_count": null,
   "id": "1a0dac49",
   "metadata": {},
   "outputs": [],
   "source": [
    "#Average Score for Bottom 5 Zips based on population\n",
    "zipPopScore = sanFranInspectsAndZips[sanFranInspectsAndZips['inspection_year'].isin(['2016', '2017', '2018', '2019'])]\n",
    "zipPopScore_df = zipPopScore.groupby(['postal_code', 'city_population'])['inspection_score'].mean().to_frame()\n",
    "zipPopScore_df = zipPopScore_df.reset_index()\n",
    "zipPopScore_df = zipPopScore_df.rename(columns={'inspection_score': 'average_score'})\n",
    "zipPopScore_df = zipPopScore_df.sort_values(by='city_population', ascending=False)\n",
    "zipPopScore_df = zipPopScore_df[zipPopScore_df.city_population > 0]\n",
    "bottom5zipPopScore_df = zipPopScore_df.tail()\n",
    "bottom5zipPopScore_df\n",
    " \n",
    "\n",
    "\n",
    "\n",
    "sns.scatterplot(data=bottom5zipPopScore_df, x=\"city_population\", y=\"average_score\", hue='postal_code', palette='ch:s=.25,rot=-.25');"
   ]
  },
  {
   "cell_type": "code",
   "execution_count": null,
   "id": "c8d487d5",
   "metadata": {},
   "outputs": [],
   "source": [
    "avgInspectScorePerYear = sanFranInspectsAndZips.groupby('inspection_year')['inspection_score'].mean().to_frame()\n",
    "avgInspectScorePerYear = avgInspectScorePerYear.rename(columns={'inspection_year':'year', 'inspection_score' :'score'})\n",
    "avgInspectScorePerYear = avgInspectScorePerYear.reset_index()\n",
    "avgInspectScorePerYear\n",
    "\n",
    "#popPerZip = anchorageInspectsAndZips.groupby('postal_code').city_population.value_counts().to_frame()\n",
    "#popPerZip = popPerZip = popPerZip.rename(columns={'city_population': 'count'})\n",
    "#popPerZip = popPerZip.reset_index()\n",
    "#popPerZip.sort_values(by=['city_population'], ascending=False, inplace=True)\n",
    "#popPerZip = popPerZip.drop(['count'], axis=1)\n",
    "#popPerZip = popPerZip.head(17)\n",
    "#popPerZip\n",
    "\n"
   ]
  },
  {
   "cell_type": "code",
   "execution_count": null,
   "id": "6886dad0",
   "metadata": {},
   "outputs": [],
   "source": [
    "#Average Score: 2016-2019\n",
    "years = sanFranInspectsAndZips[sanFranInspectsAndZips['inspection_year'].isin(['2016', '2017', '2018', '2019'])]\n",
    "avgScorePerMonth = years.groupby('inspection_month')['inspection_score'].mean().to_frame()\n",
    "avgScorePerMonth = avgScorePerMonth.rename(columns={'inspection_score' : 'score'})\n",
    "avgScorePerMonth = avgScorePerMonth.reset_index()\n",
    "avgScorePerMonth\n",
    "\n",
    "#Line chart\n",
    "plt.plot(avgScorePerMonth.inspection_month, avgScorePerMonth.score)\n",
    "plt.xlabel('Month', fontsize=16)\n",
    "plt.ylabel('Score', fontsize=16)\n",
    "plt.show()"
   ]
  },
  {
   "cell_type": "code",
   "execution_count": null,
   "id": "e003381a",
   "metadata": {},
   "outputs": [],
   "source": [
    "#2016 Only\n",
    "year2016 = sanFranInspectsAndZips[sanFranInspectsAndZips['inspection_year'].isin(['2016'])]\n",
    "avgScorePerMonth2016 = year2016.groupby('inspection_month')['inspection_score'].mean().to_frame()\n",
    "avgScorePerMonth2016 = avgScorePerMonth2016.rename(columns={'inspection_score' : 'score'})\n",
    "avgScorePerMonth2016 = avgScorePerMonth2016.reset_index()\n",
    "\n",
    "#Line chart\n",
    "plt.plot(avgScorePerMonth2016.inspection_month, avgScorePerMonth2016.score)\n",
    "plt.xlabel('Month', fontsize=16)\n",
    "plt.ylabel('Score', fontsize=16)\n",
    "plt.show()\n"
   ]
  },
  {
   "cell_type": "code",
   "execution_count": null,
   "id": "a0ded977",
   "metadata": {},
   "outputs": [],
   "source": [
    "#2017 Only\n",
    "year2017 = sanFranInspectsAndZips[sanFranInspectsAndZips['inspection_year'].isin(['2017'])]\n",
    "avgScorePerMonth2017 = year2017.groupby('inspection_month')['inspection_score'].mean().to_frame()\n",
    "avgScorePerMonth2017 = avgScorePerMonth2017.rename(columns={'inspection_score' : 'score'})\n",
    "avgScorePerMonth2017 = avgScorePerMonth2017.reset_index()\n",
    "avgScorePerMonth2017 \n",
    "\n",
    "#Line Chart\n",
    "plt.plot(avgScorePerMonth2017.inspection_month, avgScorePerMonth2017.score)\n",
    "plt.xlabel('Month', fontsize=16)\n",
    "plt.ylabel('Score', fontsize=16)\n",
    "plt.show()"
   ]
  },
  {
   "cell_type": "code",
   "execution_count": null,
   "id": "1924accc",
   "metadata": {},
   "outputs": [],
   "source": []
  },
  {
   "cell_type": "code",
   "execution_count": null,
   "id": "92bdeba1",
   "metadata": {},
   "outputs": [],
   "source": [
    "#2018 Only\n",
    "year2018 = sanFranInspectsAndZips[sanFranInspectsAndZips['inspection_year'].isin(['2018'])]\n",
    "avgScorePerMonth2018 = year2018.groupby('inspection_month')['inspection_score'].mean().to_frame()\n",
    "avgScorePerMonth2018 = avgScorePerMonth2018.rename(columns={'inspection_score' : 'score'})\n",
    "avgScorePerMonth2018 = avgScorePerMonth2018.reset_index()\n",
    "#avgScorePerMonth2018\n",
    "\n",
    "#Line Chart\n",
    "plt.plot(avgScorePerMonth2018.inspection_month, avgScorePerMonth2018.score)\n",
    "plt.xlabel('Month', fontsize=16)\n",
    "plt.ylabel('Score', fontsize=16)\n",
    "plt.show()"
   ]
  },
  {
   "cell_type": "code",
   "execution_count": null,
   "id": "8b51ed19",
   "metadata": {},
   "outputs": [],
   "source": [
    "#2019 Only\n",
    "year2019 = sanFranInspectsAndZips[sanFranInspectsAndZips['inspection_year'].isin(['2019'])]\n",
    "avgScorePerMonth2019 = year2019.groupby('inspection_month')['inspection_score'].mean().to_frame()\n",
    "avgScorePerMonth2019 = avgScorePerMonth2019.rename(columns={'inspection_score' : 'score'})\n",
    "avgScorePerMonth2019 = avgScorePerMonth2019.reset_index()\n",
    "#avgScorePerMonth2019\n",
    "\n",
    "#Line Chart\n",
    "plt.plot(avgScorePerMonth2019.inspection_month, avgScorePerMonth2019.score)\n",
    "plt.xlabel('Month', fontsize=16)\n",
    "plt.ylabel('Score', fontsize=16)\n",
    "plt.show()"
   ]
  },
  {
   "cell_type": "code",
   "execution_count": null,
   "id": "ae37f064",
   "metadata": {},
   "outputs": [],
   "source": [
    "violDescrCount = sanFranInspectsAndZips['violation_description'].value_counts()\n",
    "top10violDescrCount = violDescrCount.head(10)\n",
    "top10violDescrCount = top10violDescrCount.reset_index()\n",
    "top10violDescrCount = top10violDescrCount.rename(columns={'index' : 'violation_description', 'violation_description' : 'count'})\n",
    "top10violDescrCount\n",
    "\n",
    "sns.set(font_scale = 10)\n",
    "sns.set_style('darkgrid')\n",
    "sns.set(rc={\"figure.figsize\":(15,12)})\n",
    "cmap = sns.color_palette('ch:s=.25,rot=-.25')\n",
    "ax = sns.barplot(x='count', y='violation_description', data=top10violDescrCount, palette=cmap)\n",
    "cmap = sns.color_palette('viridis')\n",
    "plt.xlabel('Number of Occurences', fontdict= {'fontsize':20, 'fontweight':'bold'})\n",
    "plt.ylabel('Violation Name', fontdict= {'fontsize':20, 'fontweight':'bold'})\n",
    "plt.title(\"Violation Occurences for 2016-2019 \",fontdict= { 'fontsize': 30, 'fontweight':'bold','verticalalignment': 'center'})\n",
    "plt.xticks(fontsize=17, rotation=60)\n",
    "plt.yticks(fontsize=17)\n",
    ";"
   ]
  },
  {
   "cell_type": "code",
   "execution_count": null,
   "id": "43ae6939",
   "metadata": {},
   "outputs": [],
   "source": [
    "#Violation Descriptions for 2016\n",
    "year2016 = sanFranInspectsAndZips[sanFranInspectsAndZips['inspection_year'].isin(['2016'])]\n",
    "violDescr2016 = year2016['violation_description'].value_counts().to_frame()\n",
    "violDescr2016 = violDescr2016.reset_index()\n",
    "violDescr2016 = violDescr2016.rename(columns={'index' : 'violation_description', 'violation_description' : 'count'})\n",
    "top10violDescrCount = violDescr2016.head(10)\n",
    "top10violDescrCount\n",
    "\n",
    "sns.set(font_scale = 10)\n",
    "sns.set_style('darkgrid')\n",
    "sns.set(rc={\"figure.figsize\":(15,12)})\n",
    "cmap = sns.color_palette('ch:s=.25,rot=-.25')\n",
    "ax = sns.barplot(x='count', y='violation_description', data=top10violDescrCount, palette=cmap)\n",
    "cmap = sns.color_palette('viridis')\n",
    "plt.xlabel('Number of Occurences', fontdict= {'fontsize':20, 'fontweight':'bold'})\n",
    "plt.ylabel('Violation Name', fontdict= {'fontsize':20, 'fontweight':'bold'})\n",
    "plt.title(\"Violation Occurences for 2016\",fontdict= { 'fontsize': 30, 'fontweight':'bold','verticalalignment': 'center'})\n",
    "plt.xticks(fontsize=17, rotation=60)\n",
    "plt.yticks(fontsize=17)\n",
    ";"
   ]
  },
  {
   "cell_type": "code",
   "execution_count": null,
   "id": "70184d50",
   "metadata": {},
   "outputs": [],
   "source": [
    "#Violation Descriptions for 2017\n",
    "year2017 = sanFranInspectsAndZips[sanFranInspectsAndZips['inspection_year'].isin(['2017'])]\n",
    "violDescr2017 = year2017['violation_description'].value_counts().to_frame()\n",
    "violDescr2017 = violDescr2017.reset_index()\n",
    "violDescr2017 = violDescr2017.rename(columns={'index' : 'violation_description', 'violation_description' : 'count'})\n",
    "top10violDescrCount = violDescr2017.head(10)\n",
    "top10violDescrCount\n",
    "\n",
    "sns.set(font_scale = 10)\n",
    "sns.set_style('darkgrid')\n",
    "sns.set(rc={\"figure.figsize\":(15,12)})\n",
    "cmap = sns.color_palette('ch:s=.25,rot=-.25')\n",
    "ax = sns.barplot(x='count', y='violation_description', data=top10violDescrCount, palette=cmap)\n",
    "cmap = sns.color_palette('viridis')\n",
    "plt.xlabel('Number of Occurences', fontdict= {'fontsize':20, 'fontweight':'bold'})\n",
    "plt.ylabel('Violation Name', fontdict= {'fontsize':20, 'fontweight':'bold'})\n",
    "plt.title(\"Violation Occurences for 2017\",fontdict= { 'fontsize': 30, 'fontweight':'bold','verticalalignment': 'center'})\n",
    "plt.xticks(fontsize=17, rotation=60)\n",
    "plt.yticks(fontsize=17)\n",
    ";"
   ]
  },
  {
   "cell_type": "code",
   "execution_count": null,
   "id": "6b9d1a03",
   "metadata": {},
   "outputs": [],
   "source": [
    "#Violation Descriptions for 2018\n",
    "year2018 = sanFranInspectsAndZips[sanFranInspectsAndZips['inspection_year'].isin(['2018'])]\n",
    "violDescr2018 = year2018['violation_description'].value_counts().to_frame()\n",
    "violDescr2018 = violDescr2016.reset_index()\n",
    "violDescr2018 = violDescr2016.rename(columns={'index' : 'violation_description', 'violation_description' : 'count'})\n",
    "top10violDescrCount = violDescr2016.head(10)\n",
    "top10violDescrCount\n",
    "\n",
    "sns.set(font_scale = 10)\n",
    "sns.set_style('darkgrid')\n",
    "sns.set(rc={\"figure.figsize\":(15,12)})\n",
    "cmap = sns.color_palette('ch:s=.25,rot=-.25')\n",
    "ax = sns.barplot(x='count', y='violation_description', data=top10violDescrCount, palette=cmap)\n",
    "cmap = sns.color_palette('viridis')\n",
    "plt.xlabel('Number of Occurences', fontdict= {'fontsize':20, 'fontweight':'bold'})\n",
    "plt.ylabel('Violation Name', fontdict= {'fontsize':20, 'fontweight':'bold'})\n",
    "plt.title(\"Violation Occurences for 2018\",fontdict= { 'fontsize': 30, 'fontweight':'bold','verticalalignment': 'center'})\n",
    "plt.xticks(fontsize=17, rotation=60)\n",
    "plt.yticks(fontsize=17)\n",
    ";"
   ]
  },
  {
   "cell_type": "code",
   "execution_count": null,
   "id": "bad49504",
   "metadata": {},
   "outputs": [],
   "source": [
    "#Violation Descriptions for 2019\n",
    "year2019 = sanFranInspectsAndZips[sanFranInspectsAndZips['inspection_year'].isin(['2019'])]\n",
    "violDescr2019 = year2019['violation_description'].value_counts().to_frame()\n",
    "violDescr2019 = violDescr2019.reset_index()\n",
    "violDescr2019 = violDescr2019.rename(columns={'index' : 'violation_description', 'violation_description' : 'count'})\n",
    "top10violDescrCount = violDescr2019.head(10)\n",
    "top10violDescrCount\n",
    "\n",
    "sns.set(font_scale = 10)\n",
    "sns.set_style('darkgrid')\n",
    "sns.set(rc={\"figure.figsize\":(15,12)})\n",
    "cmap = sns.color_palette('ch:s=.25,rot=-.25')\n",
    "ax = sns.barplot(x='count', y='violation_description', data=top10violDescrCount, palette=cmap)\n",
    "cmap = sns.color_palette('viridis')\n",
    "plt.xlabel('Number of Occurences', fontdict= {'fontsize':20, 'fontweight':'bold'})\n",
    "plt.ylabel('Violation Name', fontdict= {'fontsize':20, 'fontweight':'bold'})\n",
    "plt.title(\"Violation Occurences for 2019\",fontdict= { 'fontsize': 30, 'fontweight':'bold','verticalalignment': 'center'})\n",
    "plt.xticks(fontsize=17, rotation=60)\n",
    "plt.yticks(fontsize=17)\n",
    ";"
   ]
  },
  {
   "cell_type": "code",
   "execution_count": null,
   "id": "4ce3df99",
   "metadata": {},
   "outputs": [],
   "source": [
    "#Frequency of Inspections\n",
    "inspectionTypeFrequency = sanFranInspectsAndZips['inspection_type'].value_counts()\n",
    "inspectionTypeFrequency"
   ]
  },
  {
   "cell_type": "code",
   "execution_count": null,
   "id": "8175d4dd",
   "metadata": {},
   "outputs": [],
   "source": [
    "sanFranInspectsAndZips['inspection_type'].unique()"
   ]
  },
  {
   "cell_type": "code",
   "execution_count": null,
   "id": "e91f51b5",
   "metadata": {},
   "outputs": [],
   "source": [
    "#Subsetting by years\n",
    "yearsForDistribution = sanFranInspectsAndZips[sanFranInspectsAndZips['inspection_year'].isin(['2016', '2017', '2018', '2019'])]\n",
    "yearsForDistribution "
   ]
  },
  {
   "cell_type": "code",
   "execution_count": null,
   "id": "d82ec077",
   "metadata": {},
   "outputs": [],
   "source": [
    "yearsForDistribution.shape"
   ]
  },
  {
   "cell_type": "code",
   "execution_count": null,
   "id": "4ac26fc5",
   "metadata": {},
   "outputs": [],
   "source": [
    "yearsForDistribution.violation_description.nunique()"
   ]
  },
  {
   "cell_type": "code",
   "execution_count": null,
   "id": "a6cf5093",
   "metadata": {},
   "outputs": [],
   "source": [
    "#Violation Counts and Distribution\n",
    "violationCountsByRest = yearsForDistribution.groupby('business_id')['violation_description'].count().to_frame()\n",
    "violationCountsByRest\n",
    "#plt.hist(violationCountsByRest.violation_description)\n",
    "plt.boxplot(violationCountsByRest.violation_description);"
   ]
  },
  {
   "cell_type": "code",
   "execution_count": null,
   "id": "8f0943c1",
   "metadata": {},
   "outputs": [],
   "source": [
    "#Violation Counts and Distribution\n",
    "#Population Density by Zip\n",
    "popDensityByZip_df = yearsForDistribution.groupby('postal_code')['density'].value_counts().to_frame()\n",
    "popDensityByZip_df = popDensityByZip_df.rename(columns={'density': 'count'})\n",
    "popDensityByZip_df = popDensityByZip_df.reset_index() \n",
    "popDensityByZip_df.sort_values(by=['density'], ascending=False, inplace=True)\n",
    "popDensityByZip_df = popDensityByZip_df.drop(['count'], axis=1)\n",
    "popDensityByZip_df  = popDensityByZip_df [popDensityByZip_df.density > 0]\n",
    "\n",
    "popDensityByZip_df \n"
   ]
  },
  {
   "cell_type": "code",
   "execution_count": null,
   "id": "fb14f817",
   "metadata": {},
   "outputs": [],
   "source": [
    "plt.hist(popDensityByZip_df.density, bins=6);"
   ]
  },
  {
   "cell_type": "code",
   "execution_count": null,
   "id": "3bcbc731",
   "metadata": {},
   "outputs": [],
   "source": [
    "#Count of Restaurants - 1 of 6\n",
    "countOfRestaurants1 = yearsForDistribution[yearsForDistribution['postal_code'].isin(['95133',\n",
    "                                                                                    '95112',\n",
    "                                                                                    '94602',\n",
    "                                                                                    '94124',\n",
    "                                                                                    '94301',\n",
    "                                                                                    '94544',\n",
    "                                                                                    '94080',\n",
    "                                                                                    '94104',\n",
    "                                                                                    '94130',\n",
    "                                                                                    '94901',\n",
    "                                                                                    '92672'])]\n",
    "countOfRestaurants1\n",
    "violationCountsByRest = countOfRestaurants1.groupby('business_id')['violation_description'].count().to_frame()\n",
    "violationCountsByRest"
   ]
  },
  {
   "cell_type": "code",
   "execution_count": null,
   "id": "6d053ab1",
   "metadata": {},
   "outputs": [],
   "source": [
    "restViolationsMean = violationCountsByRest['violation_description'].median()\n",
    "restViolationsMean"
   ]
  },
  {
   "cell_type": "code",
   "execution_count": null,
   "id": "9aa18ee4",
   "metadata": {},
   "outputs": [],
   "source": [
    "#Count of Violations - 1 of 6\n",
    "countOfViolations1 = yearsForDistribution[yearsForDistribution['postal_code'].isin(['95133',\n",
    "                                                                                    '95112',\n",
    "                                                                                    '94602',\n",
    "                                                                                    '94124',\n",
    "                                                                                    '94301',\n",
    "                                                                                    '94544',\n",
    "                                                                                    '94080',\n",
    "                                                                                    '94104',\n",
    "                                                                                    '94130',\n",
    "                                                                                    '94901',\n",
    "                                                                                    '92672'])]\n",
    "\n",
    "countOfViolations1 = countOfViolations1['violation_description'].count()\n",
    "countOfViolations1"
   ]
  },
  {
   "cell_type": "code",
   "execution_count": null,
   "id": "d99e43ce",
   "metadata": {},
   "outputs": [],
   "source": [
    "#Count of Restaurants - 2 of 6\n",
    "countOfRestaurants2 = yearsForDistribution[yearsForDistribution['postal_code'].isin(['94121',\n",
    "                                                                                    '94134',\n",
    "                                                                                    '94107',\n",
    "                                                                                    '94158',\n",
    "                                                                                    '94131',\n",
    "                                                                                    '95117',\n",
    "                                                                                    '94111',\n",
    "                                                                                    '94127',\n",
    "                                                                                    '94132'])]\n",
    "\n",
    "countOfRestaurants2 = countOfRestaurants2['business_id'].nunique()\n",
    "countOfRestaurants2"
   ]
  },
  {
   "cell_type": "code",
   "execution_count": null,
   "id": "b01d33a9",
   "metadata": {},
   "outputs": [],
   "source": [
    "#Count of Violations - 2 of 6\n",
    "countOfViolations2 = yearsForDistribution[yearsForDistribution['postal_code'].isin(['94121',\n",
    "                                                                                    '94134',\n",
    "                                                                                    '94107',\n",
    "                                                                                    '94158',\n",
    "                                                                                    '94131',\n",
    "                                                                                    '95117',\n",
    "                                                                                    '94111',\n",
    "                                                                                    '94127',\n",
    "                                                                                    '94132'])]\n",
    "\n",
    "countOfViolations2 = countOfViolations2['violation_description'].count()\n",
    "countOfViolations2"
   ]
  },
  {
   "cell_type": "code",
   "execution_count": null,
   "id": "d7ce5f74",
   "metadata": {},
   "outputs": [],
   "source": [
    "thirdEight = popDensityByZip_df[popDensityByZip_df['postal_code'].isin(['94116','94122', '94118', '94103', '94123', '94114', '94112', '94105'])]\n",
    "thirdEight"
   ]
  },
  {
   "cell_type": "code",
   "execution_count": null,
   "id": "a27fb1cd",
   "metadata": {},
   "outputs": [],
   "source": [
    "fourthThree = popDensityByZip_df[popDensityByZip_df['postal_code'].isin(['94115','94110', '94117'])]\n",
    "fourthThree"
   ]
  },
  {
   "cell_type": "code",
   "execution_count": null,
   "id": "af6fbc18",
   "metadata": {},
   "outputs": [],
   "source": [
    "fifthOne = popDensityByZip_df[popDensityByZip_df['postal_code'].isin(['94133'])]\n",
    "fifthOne"
   ]
  },
  {
   "cell_type": "code",
   "execution_count": null,
   "id": "25e6dcbb",
   "metadata": {},
   "outputs": [],
   "source": [
    "sixthOne = popDensityByZip_df[popDensityByZip_df['postal_code'].isin(['94102', '94109', '94108'])]\n",
    "sixthOne"
   ]
  },
  {
   "cell_type": "code",
   "execution_count": null,
   "id": "ed858104",
   "metadata": {},
   "outputs": [],
   "source": [
    "between80And89_df = pd.DataFrame(sanFranInspectsAndZips[sanFranInspectsAndZips['inspection_score'].between(80, 89)].value_counts())"
   ]
  },
  {
   "cell_type": "code",
   "execution_count": null,
   "id": "26d31b1f",
   "metadata": {},
   "outputs": [],
   "source": [
    "#Population Density by Zip\n",
    "popDensityByZip_df = anchorageInspectsAndZips.groupby('postal_code')['density'].value_counts().to_frame()\n",
    "popDensityByZip_df = popDensityByZip_df.rename(columns={'density': 'count'})\n",
    "popDensityByZip_df = popDensityByZip_df.reset_index() \n",
    "popDensityByZip_df.sort_values(by=['density'], ascending=False, inplace=True)\n",
    "popDensityByZip_df = popDensityByZip_df.drop(['count'], axis=1)\n",
    "popDensityByZip_df  = popDensityByZip_df [popDensityByZip_df.density > 0]\n",
    "popDensityByZip_df"
   ]
  }
 ],
 "metadata": {
  "kernelspec": {
   "display_name": "Python 3 (ipykernel)",
   "language": "python",
   "name": "python3"
  },
  "language_info": {
   "codemirror_mode": {
    "name": "ipython",
    "version": 3
   },
   "file_extension": ".py",
   "mimetype": "text/x-python",
   "name": "python",
   "nbconvert_exporter": "python",
   "pygments_lexer": "ipython3",
   "version": "3.9.7"
  }
 },
 "nbformat": 4,
 "nbformat_minor": 5
}
