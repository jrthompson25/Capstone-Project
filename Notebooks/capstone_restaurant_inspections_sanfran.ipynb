{
 "cells": [
  {
   "cell_type": "code",
   "execution_count": null,
   "id": "8cc27486",
   "metadata": {},
   "outputs": [],
   "source": [
    "import pandas as pd"
   ]
  },
  {
   "cell_type": "code",
   "execution_count": null,
   "id": "5f5ec726",
   "metadata": {},
   "outputs": [],
   "source": [
    "restInspectSanFran = pd.read_csv('../data/sanfran_inspections.csv')\n",
    "restInspectSanFran.drop([\"business_latitude\", \"business_longitude\", \"business_location\", \"inspection_id\", \"violation_id\", \"risk_category\", \"Neighborhoods\", \"SF Find Neighborhoods\", \"Current Police Districts\", \"Current Supervisor Districts\", \"Analysis Neighborhoods\"], axis = 1, inplace = True)\n",
    "restInspectSanFran"
   ]
  },
  {
   "cell_type": "code",
   "execution_count": null,
   "id": "17b945e9",
   "metadata": {},
   "outputs": [],
   "source": [
    "restInspectSanFran.info()"
   ]
  },
  {
   "cell_type": "code",
   "execution_count": null,
   "id": "48202010",
   "metadata": {},
   "outputs": [],
   "source": [
    "restInspectSanFran.inspection_type.unique()"
   ]
  },
  {
   "cell_type": "code",
   "execution_count": null,
   "id": "4ca92059",
   "metadata": {},
   "outputs": [],
   "source": []
  }
 ],
 "metadata": {
  "kernelspec": {
   "display_name": "Python 3 (ipykernel)",
   "language": "python",
   "name": "python3"
  },
  "language_info": {
   "codemirror_mode": {
    "name": "ipython",
    "version": 3
   },
   "file_extension": ".py",
   "mimetype": "text/x-python",
   "name": "python",
   "nbconvert_exporter": "python",
   "pygments_lexer": "ipython3",
   "version": "3.9.7"
  }
 },
 "nbformat": 4,
 "nbformat_minor": 5
}
