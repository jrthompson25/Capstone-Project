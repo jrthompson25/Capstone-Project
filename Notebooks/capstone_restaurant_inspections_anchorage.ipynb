{
 "cells": [
  {
   "cell_type": "code",
   "execution_count": null,
   "id": "ad677900",
   "metadata": {
    "scrolled": false
   },
   "outputs": [],
   "source": [
    "import pandas as pd"
   ]
  },
  {
   "cell_type": "code",
   "execution_count": null,
   "id": "f708c3e3",
   "metadata": {
    "scrolled": true
   },
   "outputs": [],
   "source": [
    "restInspectAnchorage = pd.read_csv('../data/restaurant-and-food-inspections-of-anchorage-1.csv')\n",
    "restInspectAnchorage.info()"
   ]
  },
  {
   "cell_type": "code",
   "execution_count": null,
   "id": "186d387f",
   "metadata": {},
   "outputs": [],
   "source": [
    "restInspectAnchorage.drop([\"business_location\", \"inspection_description\", \"violation_code\"], axis = 1, inplace = True)\n",
    "restInspectAnchorage"
   ]
  },
  {
   "cell_type": "code",
   "execution_count": null,
   "id": "348e45b1",
   "metadata": {},
   "outputs": [],
   "source": [
    "restInspectAnchorage.info()"
   ]
  },
  {
   "cell_type": "code",
   "execution_count": null,
   "id": "514b62dd",
   "metadata": {},
   "outputs": [],
   "source": [
    "restInspectAnchorage.inspection_type.unique()"
   ]
  },
  {
   "cell_type": "code",
   "execution_count": null,
   "id": "a899f8fd",
   "metadata": {},
   "outputs": [],
   "source": [
    "restInspectAnchorage_df = pd.DataFrame(restInspectAnchorage)"
   ]
  },
  {
   "cell_type": "code",
   "execution_count": null,
   "id": "b400c2df",
   "metadata": {},
   "outputs": [],
   "source": [
    "restInspectAnchorage_df = restInspectAnchorage_df.drop(columns = ['business_city', 'business_state','business_phone_number', 'business_location', 'inspection_description', 'violation_code'])\n",
    "restInspectAnchorage_df.head()"
   ]
  },
  {
   "cell_type": "code",
   "execution_count": null,
   "id": "cea0f581",
   "metadata": {},
   "outputs": [],
   "source": [
    "restInspectAnchorage_df.info()"
   ]
  },
  {
   "cell_type": "code",
   "execution_count": null,
   "id": "04870e73",
   "metadata": {},
   "outputs": [],
   "source": [
    "restInspectAnchorage_df = restInspectAnchorage_df.drop_duplicates()"
   ]
  },
  {
   "cell_type": "code",
   "execution_count": null,
   "id": "b42c6d41",
   "metadata": {},
   "outputs": [],
   "source": [
    "restInspectAnchorage_df = restInspectAnchorage_df.dropna()"
   ]
  },
  {
   "cell_type": "code",
   "execution_count": null,
   "id": "23e56df8",
   "metadata": {},
   "outputs": [],
   "source": [
    "restInspectAnchorage_df.nunique()"
   ]
  },
  {
   "cell_type": "code",
   "execution_count": null,
   "id": "0e7ea53f",
   "metadata": {},
   "outputs": [],
   "source": [
    "restInspectAnchorage_df.info()"
   ]
  },
  {
   "cell_type": "code",
   "execution_count": null,
   "id": "6a773d89",
   "metadata": {},
   "outputs": [],
   "source": []
  }
 ],
 "metadata": {
  "kernelspec": {
   "display_name": "Python 3 (ipykernel)",
   "language": "python",
   "name": "python3"
  },
  "language_info": {
   "codemirror_mode": {
    "name": "ipython",
    "version": 3
   },
   "file_extension": ".py",
   "mimetype": "text/x-python",
   "name": "python",
   "nbconvert_exporter": "python",
   "pygments_lexer": "ipython3",
   "version": "3.9.7"
  }
 },
 "nbformat": 4,
 "nbformat_minor": 5
}
