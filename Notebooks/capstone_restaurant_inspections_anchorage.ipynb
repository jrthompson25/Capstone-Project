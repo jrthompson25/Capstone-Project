{
 "cells": [
  {
   "cell_type": "code",
   "execution_count": null,
   "id": "ad677900",
   "metadata": {
    "scrolled": false
   },
   "outputs": [],
   "source": [
    "import pandas as pd\n",
    "import seaborn as sns\n",
    "import matplotlib.pyplot as plt"
   ]
  },
  {
   "cell_type": "code",
   "execution_count": null,
   "id": "f708c3e3",
   "metadata": {
    "scrolled": true
   },
   "outputs": [],
   "source": [
    "#Reading in the ispections file\n",
    "restInspectAnchorage = pd.read_csv('../data/restaurant-and-food-inspections-of-anchorage-1.csv')\n",
    "restInspectAnchorage.info()"
   ]
  },
  {
   "cell_type": "code",
   "execution_count": null,
   "id": "f18d268c",
   "metadata": {},
   "outputs": [],
   "source": [
    "restInspectAnchorage"
   ]
  },
  {
   "cell_type": "code",
   "execution_count": null,
   "id": "369cfa97",
   "metadata": {},
   "outputs": [],
   "source": [
    "restInspectAnchorage['violation_description'].unique()"
   ]
  },
  {
   "cell_type": "code",
   "execution_count": null,
   "id": "787d8fe4",
   "metadata": {},
   "outputs": [],
   "source": [
    "restInspectAnchorage.isnull().sum()"
   ]
  },
  {
   "cell_type": "code",
   "execution_count": null,
   "id": "186d387f",
   "metadata": {},
   "outputs": [],
   "source": [
    "#Dropping unnecessary columns\n",
    "restInspectAnchorage.drop([\"business_address\", \"business_phone_number\", \"business_location\", \"violation_code\"], axis = 1, inplace = True)\n",
    "restInspectAnchorage.head()"
   ]
  },
  {
   "cell_type": "code",
   "execution_count": null,
   "id": "348e45b1",
   "metadata": {},
   "outputs": [],
   "source": [
    "#Getting info\n",
    "restInspectAnchorage.info()"
   ]
  },
  {
   "cell_type": "code",
   "execution_count": null,
   "id": "bdc62f97",
   "metadata": {},
   "outputs": [],
   "source": [
    "restInspectAnchorage['business_postal_code'] = restInspectAnchorage['business_postal_code'].astype(str)\n",
    "restInspectAnchorage['business_postal_code'].dtypes"
   ]
  },
  {
   "cell_type": "code",
   "execution_count": null,
   "id": "514b62dd",
   "metadata": {},
   "outputs": [],
   "source": [
    "#Checking to see how many unique inspection types there are\n",
    "restInspectAnchorage.inspection_type.unique()"
   ]
  },
  {
   "cell_type": "code",
   "execution_count": null,
   "id": "a899f8fd",
   "metadata": {},
   "outputs": [],
   "source": [
    "#Converting to Dataframe\n",
    "restInspectAnchorage_df = pd.DataFrame(restInspectAnchorage)"
   ]
  },
  {
   "cell_type": "code",
   "execution_count": null,
   "id": "cea0f581",
   "metadata": {},
   "outputs": [],
   "source": [
    "#Checking info after some cleanup was done\n",
    "restInspectAnchorage_df.info()"
   ]
  },
  {
   "cell_type": "code",
   "execution_count": null,
   "id": "c6c8315c",
   "metadata": {},
   "outputs": [],
   "source": [
    "#Removed url that was after each business id\n",
    "restInspectAnchorage_df.business_id = restInspectAnchorage_df.business_id.str[0:9]\n",
    "restInspectAnchorage_df"
   ]
  },
  {
   "cell_type": "code",
   "execution_count": null,
   "id": "55b6a814",
   "metadata": {},
   "outputs": [],
   "source": [
    "restInspectAnchorage_df.business_postal_code.nunique()"
   ]
  },
  {
   "cell_type": "code",
   "execution_count": null,
   "id": "4996e5f5",
   "metadata": {},
   "outputs": [],
   "source": [
    "restInspectAnchorage_df.business_postal_code = restInspectAnchorage_df.business_postal_code.astype(str)\n",
    "restInspectAnchorage_df.info()"
   ]
  },
  {
   "cell_type": "code",
   "execution_count": null,
   "id": "8c30a906",
   "metadata": {
    "scrolled": true
   },
   "outputs": [],
   "source": [
    "#Making postal code only the first five digits\n",
    "restInspectAnchorage_df.business_postal_code = restInspectAnchorage_df.business_postal_code.str[0:5]\n",
    "restInspectAnchorage_df"
   ]
  },
  {
   "cell_type": "code",
   "execution_count": null,
   "id": "039de60f",
   "metadata": {},
   "outputs": [],
   "source": [
    "restInspectAnchorage_df['inspection_month'] = restInspectAnchorage_df['inspection_date'].str[0:2]\n",
    "restInspectAnchorage_df['inspection_day'] = restInspectAnchorage_df['inspection_date'].str[3:5]\n",
    "restInspectAnchorage_df['inspection_year'] = restInspectAnchorage_df['inspection_date'].str[6:]\n",
    "restInspectAnchorage_df.head(40)"
   ]
  },
  {
   "cell_type": "code",
   "execution_count": null,
   "id": "2ee0ba23",
   "metadata": {},
   "outputs": [],
   "source": [
    "#restInspectAnchorage_df['inspection_month'].replace('01', 'Jan', inplace = True)\n",
    "#restInspectAnchorage_df['inspection_month'].replace('02', 'Feb', inplace = True)\n",
    "#restInspectAnchorage_df['inspection_month'].replace('03', 'Mar', inplace = True)\n",
    "#restInspectAnchorage_df['inspection_month'].replace('04', 'Apr', inplace = True)\n",
    "#restInspectAnchorage_df['inspection_month'].replace('05', 'May', inplace = True)\n",
    "#restInspectAnchorage_df['inspection_month'].replace('06', 'Jun', inplace = True)\n",
    "#restInspectAnchorage_df['inspection_month'].replace('07', 'Jul', inplace = True)\n",
    "#restInspectAnchorage_df['inspection_month'].replace('08', 'Aug', inplace = True)\n",
    "#restInspectAnchorage_df['inspection_month'].replace('09', 'Sep', inplace = True)\n",
    "#restInspectAnchorage_df['inspection_month'].replace('10', 'Oct', inplace = True)\n",
    "#restInspectAnchorage_df['inspection_month'].replace('11', 'Nov', inplace = True)\n",
    "#restInspectAnchorage_df['inspection_month'].replace('12', 'Dec', inplace = True)"
   ]
  },
  {
   "cell_type": "code",
   "execution_count": null,
   "id": "d7051998",
   "metadata": {},
   "outputs": [],
   "source": [
    "restInspectAnchorage_df.drop([\"inspection_date\"], axis = 1, inplace = True)\n",
    "restInspectAnchorage_df.head(60)"
   ]
  },
  {
   "cell_type": "code",
   "execution_count": null,
   "id": "fa0784c3",
   "metadata": {},
   "outputs": [],
   "source": [
    "restInspectAnchorage_df.isnull().sum()"
   ]
  },
  {
   "cell_type": "code",
   "execution_count": null,
   "id": "0962006a",
   "metadata": {},
   "outputs": [],
   "source": [
    "#Replacement: Handwashing and Toilet Facilities and checking the dataframe - 1\n",
    "oldString1 = ['HANDWASHING FACILITIES SUPPLIED, ACCESSIBLE', \n",
    "              'Adequate handwashing facilities properly supplied',\n",
    "             '31  HANDWASHING SINKS ACCESSIBLE, INSTALLED',\n",
    "             'HANDWASHING SINK', '32  HANDSOAP/TOWELS, TOILET ROOMS CLEAN, PROVIDED']\n",
    "newString1 = 'Handwashing and Toilet Facilities'\n",
    "restInspectAnchorage_df['violation_description'].replace(oldString1, newString1, inplace=True)\n",
    "restInspectAnchorage_df.head(60)   \n",
    "\n",
    "\n",
    "\n",
    "\n",
    "    \n",
    "    \n",
    "    \n",
    "    "
   ]
  },
  {
   "cell_type": "code",
   "execution_count": null,
   "id": "956c30a8",
   "metadata": {},
   "outputs": [],
   "source": [
    "#Replacement: Employee Health and checking the dataframe - 2 \n",
    "oldString2 = ['12  HANDS CLEAN, GOOD HYGIENE, CERTIFICATION',\n",
    "              'HANDS CLEAN AND PROPERLY WASHED',\n",
    "              'C1X - Handwashing',\n",
    "              '11  PERSONNEL WITH INFECTIONS RESTRICTED',\n",
    "              'Hands clean and properly washed',\n",
    "              'EMPLOYEE HEALTH RESTRICTION AND EXCLUSION',\n",
    "              'EMPLOYEE HEALTH POLICY',\n",
    "              '12  HYGIENE, CERTIFICATION', 'DISCHARGE FROM EYES, NOSE, MOUTH',\n",
    "              'TB CLEARANCES']\n",
    "newString2 = 'Employee Health'\n",
    "restInspectAnchorage_df['violation_description'].replace(oldString2, newString2, inplace=True)\n",
    "restInspectAnchorage_df.head(60)"
   ]
  },
  {
   "cell_type": "code",
   "execution_count": null,
   "id": "161b09c2",
   "metadata": {},
   "outputs": [],
   "source": [
    "#Replacement: Temperature Control Procedures and checking the dataframe - 3\n",
    "oldString3 = ['PROPER COLD HOLDING TEMPERATURES',\n",
    "              'PROPER HOT HOLDING TEMPERATURES',\n",
    "              '03  FOOD TEMPERATURE MEETS REQUIREMENTS',\n",
    "              'PROPER REHEATING FOR HOT HOLDING',\n",
    "              'PROPER REHEATING FOR HOT HOLDING',\n",
    "              'Proper reheating procedures for hot holding',\n",
    "              'FOOD TEMPERATURE',\n",
    "              'PLANT FOOD PROPERLY COOKED FOR HOT HOLDING',\n",
    "              'Proper cooking time and temperatures',\n",
    "              'B1X Proper Cooling Process',\n",
    "              'E2X - Hot holding temperatures',\n",
    "              'FOOD RECEIVED AT PROPER TEMPERATURE',\n",
    "              'PROPER TEMPERATURE',\n",
    "              'PROPER COOKING TIME AND TEMPERATURE',\n",
    "              'PROPER COOLING TIME AND TEMPERATURES',\n",
    "              'Proper cold holding temperatures',\n",
    "              'Proper cooling time and temperatures',\n",
    "              'PROPER COOLING METHODS, ADEQUATE EQUIPMENT',\n",
    "              'APPROVED THAWING METHODS USED',\n",
    "              '06  POTENTIALLY HAZARDOUS FOOD PROPERLY THAWED',\n",
    "              'B2X - PHF maintained at 45/41 F.']\n",
    "newString3 = 'Temperature Control Procedures'\n",
    "restInspectAnchorage_df['violation_description'].replace(oldString3, newString3, inplace=True)\n",
    "restInspectAnchorage_df.head(40)"
   ]
  },
  {
   "cell_type": "code",
   "execution_count": null,
   "id": "9e3d4ae9",
   "metadata": {},
   "outputs": [],
   "source": [
    "#Replacement: Approved Source and checking the dataframe - 4\n",
    "oldString4 = ['FOOD FROM AN APPROVED SOURCE',\n",
    "              'Food obtained from approved source',\n",
    "              'Food obtained from approved source',\n",
    "              '01  FOOD FROM APPROVED SOURCE, SOUND CONDITION',\n",
    "              'WATER AND ICE FROM APPROVED SOURCE',\n",
    "              'Water & ice from approved source',\n",
    "              'HIGHLY SUSCEPTIBLE POPULATIONS, PROHIBITED FOODS',\n",
    "              'PASTEURIZED EGGS USED WHERE REQUIRED'\n",
    "]\n",
    "newString4 = 'Approved Source'\n",
    "restInspectAnchorage_df['violation_description'].replace(oldString4, newString4, inplace=True)\n"
   ]
  },
  {
   "cell_type": "code",
   "execution_count": null,
   "id": "69d4908f",
   "metadata": {
    "scrolled": true
   },
   "outputs": [],
   "source": [
    "restInspectAnchorage_df"
   ]
  },
  {
   "cell_type": "code",
   "execution_count": null,
   "id": "bba782c1",
   "metadata": {},
   "outputs": [],
   "source": [
    "#Replacement: Water, Sewage, Plumbing Systems - 5\n",
    "oldString5 = ['HOT AND COLD WATER AVAILABLE, ADEQUATE PRESSURE',\n",
    "              'SEWAGE AND WASTE WATER PROPERLY DISPOSED',\n",
    "              'Hot & cold water available; adequate pressure',\n",
    "              '28  PROPER SEWAGE AND WASTEWATER DISPOSAL',\n",
    "              'Plumbing installed; proper backflow devices',\n",
    "              '27  WATER SOURCE SAFE, HOT & COLD WATER PROVIDED',\n",
    "              '30  PLUMBING; PREVENT CROSS CONNECTION, BACKFLOW',\n",
    "              'PLUMBING INSTALLED, PROPER BACKFLOW DEVICES',\n",
    "              '11  Monthly water sampling',\n",
    "              '04  Pumps, balance tanks, filters - sized properly',\n",
    "              '06  Gutters, skimmers, strainers, drains, inlets',\n",
    "              '03  Filters approved, maintained, backwashed'\n",
    "\n",
    "]\n",
    "newString5 = 'Water, Sewage, Plumbing Systems'\n",
    "restInspectAnchorage_df['violation_description'].replace(oldString5, newString5, inplace=True)\n",
    "restInspectAnchorage_df.head(60)"
   ]
  },
  {
   "cell_type": "code",
   "execution_count": null,
   "id": "710e8c3e",
   "metadata": {},
   "outputs": [],
   "source": [
    "#Replacement: Cleaning of Equipment and Utensils - 6\n",
    "oldString6 = ['FOOD CONTACT SURFACES CLEAN AND SANITIZED',\n",
    "              '22  FOOD CONTACT SURFACES OF EQUIPMENT CLEAN',\n",
    "              'Food-contact surfaces: cleaned and sanitized',\n",
    "              'Nonfood-contact surfaces clean',\n",
    "              '23  NON-FOOD CONTACT SURFACES CLEAN',\n",
    "              'NONFOOD-CONTACT SURFACES CLEAN',\n",
    "              'WAREWASHING FACILITIES, INSTALLED,TEST STRIPS',\n",
    "              'Warewashing facilities: installed, maintained, & u',\n",
    "              '21  WIPING CLOTHS CLEAN, USE RESTRICTED',\n",
    "              'WIPING CLOTHS PROPERLY USED AND STORED',\n",
    "              'Wiping cloths: properly used & stored',\n",
    "              '18  SOILED DISHES PREFLUSHED, SCRAPED, SOAKED',\n",
    "              'UTENSILS & EQUIPMENT CLEANING FACILITES PROVIDED; NON-TOXIC; CLEAN',\n",
    "              '16  PROPER PROCEDURE/ MAINTENANCE OF DISHWASHING']\n",
    "newString6 = 'Cleaning of Equipment and Utensils'\n",
    "restInspectAnchorage_df['violation_description'].replace(oldString6, newString6, inplace=True)\n",
    "restInspectAnchorage_df.head(60)"
   ]
  },
  {
   "cell_type": "code",
   "execution_count": null,
   "id": "f0c0b04f",
   "metadata": {},
   "outputs": [],
   "source": [
    "#Replacement: Pest Control - 7\n",
    "oldString7 = ['INSECTS, RODENTS, ANIMALS NOT PRESENT',\n",
    "              'Insects, rodents, & animals not present; no unauth',\n",
    "              '35  INSECT AND RODENT CONTROL',\n",
    "              '35  INSECT/RODENT CONTROL, OUTER OPENING PROTECTED']\n",
    "newString7 = 'Pest Control'\n",
    "restInspectAnchorage_df['violation_description'].replace(oldString7, newString7, inplace=True)\n",
    "restInspectAnchorage_df.head(60)"
   ]
  },
  {
   "cell_type": "code",
   "execution_count": null,
   "id": "918ec411",
   "metadata": {},
   "outputs": [],
   "source": [
    "#Replacement: Wholesome, Free of Spoilage - 8\n",
    "oldString8 = ['FOOD IN GOOD CONDITION, SAFE, UNADULTERATED',\n",
    "              'Food in good condition, safe and unadulterated',\n",
    "              'PREVIOUSLY SERVED AND UNSAFE FOOD']\n",
    "newString8 = 'Wholesome, Free of Spoilage'\n",
    "restInspectAnchorage_df['violation_description'].replace(oldString8, newString8, inplace=True)\n",
    "restInspectAnchorage_df.head(60)"
   ]
  },
  {
   "cell_type": "code",
   "execution_count": null,
   "id": "6df3bad5",
   "metadata": {},
   "outputs": [],
   "source": [
    "#Replacement: Sanitation Rinse - 9\n",
    "oldString9 = ['19 WASH, RINSE WATER CLEAN, PROPER TEMPERATURE']\n",
    "newString9 = 'Sanitation Rinse'\n",
    "restInspectAnchorage_df['violation_description'].replace(oldString9, newString9, inplace=True)\n",
    "restInspectAnchorage_df.head(60)"
   ]
  },
  {
   "cell_type": "code",
   "execution_count": null,
   "id": "b08b7663",
   "metadata": {},
   "outputs": [],
   "source": [
    "#Replacement: Equipment Design, Construction - 10\n",
    "oldString10 = ['14  FOOD CONTACT SURFACES IN GOOD REPAIR',\n",
    "               'Food- & nonfood-contact surfaces cleanable, proper',\n",
    "               '15  NON-FOOD CONTACT SURFACES IN GOOD REPAIR',\n",
    "               'SURFACES CLEANABLE, DESIGN, CONSTRUCTED, USED']\n",
    "newString10 = 'Equipment Design, Construction'\n",
    "restInspectAnchorage_df['violation_description'].replace(oldString10, newString10, inplace=True)\n",
    "restInspectAnchorage_df.head(60)"
   ]
  },
  {
   "cell_type": "code",
   "execution_count": null,
   "id": "1aaeff54",
   "metadata": {},
   "outputs": [],
   "source": [
    "#Replacement: Consumer Advisory for Service of Raw/Undercooked Animal Foods - 11\n",
    "oldString11 = ['F7X - Consumer advisory (raw foods)',\n",
    "               'CONSUMER ADVISORY FOR RAW OR UNDERCOOKED FOODS',\n",
    "               'F2X - Raw separate from RTE']\n",
    "newString11 = 'Consumer Advisory for Service of Raw/Undercooked Animal Foods'\n",
    "restInspectAnchorage_df['violation_description'].replace(oldString11, newString11, inplace=True)\n",
    "restInspectAnchorage_df.head(60)"
   ]
  },
  {
   "cell_type": "code",
   "execution_count": null,
   "id": "1ab38658",
   "metadata": {},
   "outputs": [],
   "source": [
    "#Replacement: Utensils, Single-service Articles - 12\n",
    "oldString12 = ['UNTENSILS, EQUIPMENT, LINENS, STORAGE AND USE',\n",
    "               '24  STORAGE, HANDLING OF CLEAN EQUIPMENT/UTENSILS',\n",
    "               'In-use utensils: properly stored', \n",
    "               '10  IN-USE FOOD AND ICE UTENSILS PROPERLY STORED',\n",
    "               'IN USE UTENSILS PROPERLY STORED',\n",
    "               '26  NO RE-USE OF SINGLE SERVICE ARTICLES',\n",
    "               'Single-use & single-service articles: properly sto',\n",
    "               'SINGLE-SERVICE ITEMS PROPERLY STORED, USED',\n",
    "               '25  SINGLE SERVICE ARTICLES STORED, USED PROPERLY']\n",
    "newString12 = 'Utensils, Single-service Articles'\n",
    "restInspectAnchorage_df['violation_description'].replace(oldString12, newString12, inplace=True)\n",
    "restInspectAnchorage_df.head(60)"
   ]
  },
  {
   "cell_type": "code",
   "execution_count": null,
   "id": "8db9e151",
   "metadata": {},
   "outputs": [],
   "source": [
    "#Replacement: Testing Devices - 13\n",
    "oldString13 = ['WORKING GAUGES AND CHEMICAL TEST KITS']\n",
    "newString13 = 'Testing Devices'\n",
    "restInspectAnchorage_df['violation_description'].replace(oldString13, newString13, inplace=True)\n",
    "restInspectAnchorage_df.head(60)"
   ]
  },
  {
   "cell_type": "code",
   "execution_count": null,
   "id": "54dee9a0",
   "metadata": {},
   "outputs": [],
   "source": [
    "#Replacement: Physical Facilities - 14\n",
    "oldString14 = ['PHYSICAL FACILITIES INSTALLED, MAINTAINED, CLEAN',\n",
    "               'TOILET FACILITIES CONSTRUCTED, SUPPLIED, CLEANED',\n",
    "               'Physical facilities installed, maintained, & clean',\n",
    "               'Toilet facilities: properly constructed, supplied,',\n",
    "               '29  PLUMBING INSTALLED AND MAINTAINED PROPERLY',\n",
    "               '05  Piping - water velocity, color coded',\n",
    "               '07  Plumbing meets uniform plumbing code',\n",
    "               '19  Lighting and ventilation provided/adequate',\n",
    "               'Adequate ventilation & lighting; designated areas',\n",
    "               'ADEQUATE VENTILATION, LIGHTING, DESIGNATED AREAS',\n",
    "               '39  ROOMS AND EQUIPMENT: VENTED AS REQUIRED',\n",
    "               'GARBAGE/REFUSE PROPERLY DISPOSED',\n",
    "               '34  OUTSIDE REFUSE AREA ENCLOSURES CLEAN, PROVIDED',\n",
    "               'Garbage & refuse properly disposed: facilities mai',\n",
    "               '33  GARBAGE DISPOSAL:  PROPER, ADEQUATE NUMBER',\n",
    "               'FLOORS, WALLS, CEILINGS',\n",
    "               'FOOD HANDLING, STORAGE, SERVICE PREVENT CONTAMINATION; AREAS CLEAN AND GOOD REPAIR; VENTALIAITON',\n",
    "                'ORDERLY, CLEAN, SAFE',\n",
    "               '14  Premesis: clean, good repair, well drained',\n",
    "               '42  PREMISES MAINTAINED, FREE OF UNNECESSARY ITEMS',\n",
    "               '15  Decks & floor sanitized daily', \n",
    "               '38  PROPER LIGHTING, FIXTURE SHIELDS AS REQUIRED',\n",
    "               '37   WALLS & CEILINGS CLEAN AND IN GOOD REPAIR',\n",
    "               '36  FLOORS CLEAN AND IN GOOD REPAIR',\n",
    "               '17 Dressing rooms: layout, lighting, vented, clean',\n",
    "               '43  LIVING/SLEEPING QUARTERS & LAUNDRY SEPARATE',\n",
    "               '40  DRESSING ROOMS AND LOCKERS PROVIDED, CLEAN',\n",
    "               '16  Sanitary facilities: provided, maintained',\n",
    "               'SANITIZATION, TEMPERATURE CHEMICALS',\n",
    "               '20  PROPER SANITIZATION, TEMPERATURE, CHEMICALS',\n",
    "               '20  SANITIZATION, TEMPERATURE CHEMICALS',\n",
    "               'F5X - FCS cleaned and sanitized']\n",
    "newString14 = 'Physical Facilities'\n",
    "restInspectAnchorage_df['violation_description'].replace(oldString14, newString14, inplace=True)\n",
    "restInspectAnchorage_df.head(60)\n"
   ]
  },
  {
   "cell_type": "code",
   "execution_count": null,
   "id": "0b421ef5",
   "metadata": {},
   "outputs": [],
   "source": [
    "#Replacement: Temperature Control Equipment - 15\n",
    "oldString15 = ['THERMOMETERS PROVIDED AND ACCURATE',\n",
    "               '17  ACCURATE THERMOMETERS AND CHEMICAL TEST KITS',\n",
    "               '05  THERMOMETERS PROVIDED AND CONSPICUOUS',\n",
    "               'Thermometers provided & accurate',\n",
    "               '04  EQUIPMENT TO MAINTAIN FOOD TEMPERATURE']\n",
    "newString15 = 'Temperature Control Equipment '\n",
    "restInspectAnchorage_df['violation_description'].replace(oldString15, newString15, inplace=True)\n",
    "restInspectAnchorage_df.head(60)"
   ]
  },
  {
   "cell_type": "code",
   "execution_count": null,
   "id": "ea4c898f",
   "metadata": {},
   "outputs": [],
   "source": [
    "#Replacement: No Bare-hand Contact - 16\n",
    "oldString16 = ['BARE HAND CONTACT WITH READY TO EAT FOOD',\n",
    "               'No bare hand contact with ready-to-eat foods or ap',\n",
    "               '09  HANDLING OF FOOD AND ICE MINIMIZED']\n",
    "newString16 = 'No Bare-hand Contact'\n",
    "restInspectAnchorage_df['violation_description'].replace(oldString16, newString16, inplace=True)\n",
    "restInspectAnchorage_df.head(60)"
   ]
  },
  {
   "cell_type": "code",
   "execution_count": null,
   "id": "c5ea4d3f",
   "metadata": {},
   "outputs": [],
   "source": [
    "#Replacement: Food Labeling, Food Protection - 17\n",
    "oldString17 = ['FOOD PROTECTED FROM Cross-contamination',\n",
    "               'FOOD PROPERLY LABELED, ORIGINAL CONTAINER',\n",
    "               '02  ORIGINAL CONTAINER, PROPERLY LABELED',\n",
    "               'FOOD PROTECTION',\n",
    "               'Contamination prevented during food preparation, s',\n",
    "               '08  FOOD PROTECTED FROM CROSS CONTAMINATION',\n",
    "               'FOOD PROTECTED FROM CONTAMINATION']\n",
    "newString17 = 'Food Labeling, Food Protection'\n",
    "restInspectAnchorage_df['violation_description'].replace(oldString17, newString17, inplace=True)\n",
    "restInspectAnchorage_df.head(60)"
   ]
  },
  {
   "cell_type": "code",
   "execution_count": null,
   "id": "69aa58bf",
   "metadata": {},
   "outputs": [],
   "source": [
    "#Replacement: Date Marking - 18\n",
    "oldString18 = ['PROPER DATE MARKING AND DISPOSITION',\n",
    "               'Proper date marking and disposition']\n",
    "newString18 = 'Date Marking'\n",
    "restInspectAnchorage_df['violation_description'].replace(oldString18, newString18, inplace=True)\n",
    "restInspectAnchorage_df.head(60)"
   ]
  },
  {
   "cell_type": "code",
   "execution_count": null,
   "id": "22ac4300",
   "metadata": {},
   "outputs": [],
   "source": [
    "#Replacement: Hygenic Practices - 19\n",
    "oldString19 = ['PERSONAL CLEANLINESS',\n",
    "               'EATING, DRINKING, TOBACCO USE',\n",
    "               'Proper eating, tasting, drinking or tobacco use',\n",
    "               'HYGIENE, CERTIFICATION']\n",
    "newString19 = 'Hygenic Practices'\n",
    "restInspectAnchorage_df['violation_description'].replace(oldString19, newString19, inplace=True)\n",
    "restInspectAnchorage_df.head(60)"
   ]
  },
  {
   "cell_type": "code",
   "execution_count": null,
   "id": "293c4b00",
   "metadata": {},
   "outputs": [],
   "source": [
    "#Replacement: Poisonous or Toxic Items - 20\n",
    "oldString20 = ['TOXIC SUBSTANCES PROPERLY IDENTIFIED, STORED, USED',\n",
    "               'Toxic substances properly identified, stored, used',\n",
    "               '41  NECESSARY TOXIC ITEMS PROPERLY STORED, LABELED',\n",
    "               'Toxic substances properly identified, stored, and']\n",
    "newString20 = 'Poisonous or Toxic Items'\n",
    "restInspectAnchorage_df['violation_description'].replace(oldString20, newString20, inplace=True)\n",
    "restInspectAnchorage_df.head(60)"
   ]
  },
  {
   "cell_type": "code",
   "execution_count": null,
   "id": "045e3839",
   "metadata": {},
   "outputs": [],
   "source": [
    "#Replacement: Other Operations - 21\n",
    "oldString21 = ['44  CLEAN & SOILED LINEN PROPERLY STORED']\n",
    "newString21 = 'Other Operations'\n",
    "restInspectAnchorage_df['violation_description'].replace(oldString21, newString21, inplace=True)\n",
    "restInspectAnchorage_df.head(60)"
   ]
  },
  {
   "cell_type": "code",
   "execution_count": null,
   "id": "666f204c",
   "metadata": {},
   "outputs": [],
   "source": [
    "#Replacement: Demonstration of Knowledge - 22\n",
    "oldString22 = ['DEMONSTRATION OF KNOWLEDGE',\n",
    "               'Person in charge present, demonstrates knowledge, and performs duties',\n",
    "               'Management awareness; policy present',\n",
    "               '13  Records kept, operation manual on site',\n",
    "               'Required records available: shellstock tags, paras',\n",
    "               'RECORDS, SHELLSTOCK TAGS, PARASITE DESTRUCTION']\n",
    "newString22 = 'Demonstration of Knowledge'\n",
    "restInspectAnchorage_df['violation_description'].replace(oldString22, newString22, inplace=True)\n",
    "restInspectAnchorage_df.head(60)"
   ]
  },
  {
   "cell_type": "code",
   "execution_count": null,
   "id": "f56d3b62",
   "metadata": {},
   "outputs": [],
   "source": [
    "#Replacement: Cross-contamination - 23\n",
    "oldString23 = ['WASHING FRUITS AND VEGETABLES',\n",
    "               'Washing fruits & vegetables']\n",
    "newString23 = 'Cross-contamination'\n",
    "restInspectAnchorage_df['violation_description'].replace(oldString23, newString23, inplace=True)\n",
    "restInspectAnchorage_df.head(60)"
   ]
  },
  {
   "cell_type": "code",
   "execution_count": null,
   "id": "fed9e623",
   "metadata": {},
   "outputs": [],
   "source": [
    "#Replacement: Hazard Analysis Critical Control Point (HACCP) Plan - 24\n",
    "oldString24 = ['Compliance with variance, specialized process, and',\n",
    "               'VARIANCE FOR SPECIALIZED PROCESSING METHODS',\n",
    "               'COMPLIANCE WITH VARIANCE, HACCP PLAN']\n",
    "newString24 = 'HACCP Plan'\n",
    "restInspectAnchorage_df['violation_description'].replace(oldString24, newString24, inplace=True)\n",
    "restInspectAnchorage_df.head(60)"
   ]
  },
  {
   "cell_type": "code",
   "execution_count": null,
   "id": "4942d951",
   "metadata": {},
   "outputs": [],
   "source": [
    "restInspectAnchorage_df['violation_description'].unique()"
   ]
  },
  {
   "cell_type": "code",
   "execution_count": null,
   "id": "9672fbbc",
   "metadata": {},
   "outputs": [],
   "source": [
    "\n",
    "dropString = ['23  \"No diving\" signs & depth markings posted',\n",
    "                                                       '01  Circulation rate/turnover',\n",
    "                                                       'GLOVES USED PROPERLY',\n",
    "                                                       'TIME AS A CONTROL PROCEDURES AND RECORDS',\n",
    "                                                       '12  CPO, testing equipment & frequency',\n",
    "                                                       '09  Pool water chemistry within limits',\n",
    "                                                       '20  Pool rules: posted, visible, enforced',\n",
    "                                                       '10  Water quality - clear, pool bottom vacuumed',\n",
    "                                                       '22  Life saving equipment provided, located',\n",
    "                                                       'Operating Without a Permit',\n",
    "                                                       '45  OPERATING WITHOUT A PERMIT',\n",
    "                                                       'Gloves used properly',\n",
    "                                                       'SPACE RATIOS MAINTAINED',\n",
    "                                                       'REGISTRATION SYSTEM: NAME,SEX, DATE OF BIRTH, NEXT OF KIN, HEALTH INFO, ADMISSION/DISCHARGE DATES',\n",
    "                                                       'G1X - Knowledge by PIC',\n",
    "                                                       'Time as a Public Health Control: procedures and re',\n",
    "                                                       'ANNUAL FEE PAID']\n",
    "restInspectAnchorage_df = restInspectAnchorage_df[restInspectAnchorage_df.violation_description.isin(dropString) == False]\n",
    "restInspectAnchorage_df"
   ]
  },
  {
   "cell_type": "code",
   "execution_count": null,
   "id": "cdbb9a1f",
   "metadata": {},
   "outputs": [],
   "source": [
    "restInspectAnchorage_df.violation_description.unique()"
   ]
  },
  {
   "cell_type": "code",
   "execution_count": null,
   "id": "a6185d53",
   "metadata": {},
   "outputs": [],
   "source": [
    "#Inspection Type Replacements\n",
    "restInspectAnchorage_df['inspection_type'].replace('FOLLOW-UP', 'Follow Up', inplace=True)\n",
    "restInspectAnchorage_df['inspection_type'].replace('FBI - INACTIVE CODE', 'Foodborne Illness Investigation', inplace=True)\n",
    "restInspectAnchorage_df['inspection_type'].replace('C/R - INACTIVE CODE', 'Complaint Reinspection/Follow up', inplace=True)\n",
    "restInspectAnchorage_df['inspection_type'].replace('Plan Review', 'Administrative or Document Review', inplace=True)\n",
    "restInspectAnchorage_df['inspection_type'].replace('HACCP - INACTIVE', 'Administrative or Document Review', inplace=True)"
   ]
  },
  {
   "cell_type": "code",
   "execution_count": null,
   "id": "f6b0b2be",
   "metadata": {},
   "outputs": [],
   "source": [
    "restInspectAnchorage_df['inspection_type'].unique()"
   ]
  },
  {
   "cell_type": "code",
   "execution_count": null,
   "id": "d8c22867",
   "metadata": {},
   "outputs": [],
   "source": [
    "dropString2 = ['FU - INACTIVE CODE', 'OB - INACTIVE CODE']\n",
    "restInspectAnchorage_df = restInspectAnchorage_df[restInspectAnchorage_df.inspection_type.isin(dropString2) == False]\n",
    "restInspectAnchorage_df['inspection_type'].unique()"
   ]
  },
  {
   "cell_type": "code",
   "execution_count": null,
   "id": "04870e73",
   "metadata": {},
   "outputs": [],
   "source": [
    "restInspectAnchorage_df = restInspectAnchorage_df.drop_duplicates()"
   ]
  },
  {
   "cell_type": "code",
   "execution_count": null,
   "id": "b42c6d41",
   "metadata": {},
   "outputs": [],
   "source": [
    "restInspectAnchorage_df = restInspectAnchorage_df.dropna()"
   ]
  },
  {
   "cell_type": "code",
   "execution_count": null,
   "id": "0e7ea53f",
   "metadata": {},
   "outputs": [],
   "source": [
    "restInspectAnchorage_df.info()"
   ]
  },
  {
   "cell_type": "code",
   "execution_count": null,
   "id": "6a773d89",
   "metadata": {},
   "outputs": [],
   "source": [
    "#Number of restaurants\n",
    "restInspectAnchorage_df.business_id.nunique()"
   ]
  },
  {
   "cell_type": "code",
   "execution_count": null,
   "id": "1626d5f4",
   "metadata": {},
   "outputs": [],
   "source": [
    "restInspectAnchorage_df.rename(columns = {'business_postal_code':'postal_code', 'business_city':'city', 'business_state':'state'}, inplace = True)\n",
    "restInspectAnchorage_df"
   ]
  },
  {
   "cell_type": "code",
   "execution_count": null,
   "id": "7b17b2c0",
   "metadata": {},
   "outputs": [],
   "source": [
    "zipCodes = pd.read_csv('../data/uszips_cleaned.csv')\n",
    "zipCodes['zip'] = zipCodes['zip'].astype(str)\n",
    "zipCodes['zip'].dtypes"
   ]
  },
  {
   "cell_type": "code",
   "execution_count": null,
   "id": "98ae323c",
   "metadata": {},
   "outputs": [],
   "source": [
    "zipCodes.rename(columns = {'zip': 'postal_code', 'state_id':'state'}, inplace=True)\n",
    "zipCodes"
   ]
  },
  {
   "cell_type": "code",
   "execution_count": null,
   "id": "73138b6b",
   "metadata": {},
   "outputs": [],
   "source": [
    "anchorageInspectsAndZips = pd.merge(restInspectAnchorage_df, zipCodes, how='left', on=['postal_code', 'state'])\n",
    "anchorageInspectsAndZips.drop(['city_y', 'county_name', 'inspection_description'], axis = 1, inplace = True)\n",
    "anchorageInspectsAndZips.rename(columns = {'city_x' : 'city', 'population': 'postal_code_population'}, inplace = True)\n"
   ]
  },
  {
   "cell_type": "code",
   "execution_count": null,
   "id": "0f620b34",
   "metadata": {},
   "outputs": [],
   "source": [
    "anchorageInspectsAndZips['postal_code_population'] = anchorageInspectsAndZips['postal_code_population'].fillna(0)\n",
    "anchorageInspectsAndZips['postal_code_population'] = anchorageInspectsAndZips['postal_code_population'].astype(int)\n",
    "anchorageInspectsAndZips['density'] = anchorageInspectsAndZips['density'].fillna(0)\n",
    "anchorageInspectsAndZips['density'] = anchorageInspectsAndZips['density'].astype(int)\n",
    "anchorageInspectsAndZips['inspection_score'] = anchorageInspectsAndZips['inspection_score'].astype(int)\n",
    "anchorageInspectsAndZips\n"
   ]
  },
  {
   "cell_type": "code",
   "execution_count": null,
   "id": "02eb835d",
   "metadata": {},
   "outputs": [],
   "source": [
    "anchorageInspectsAndZips.drop_duplicates()"
   ]
  },
  {
   "cell_type": "code",
   "execution_count": null,
   "id": "964fbdb4",
   "metadata": {},
   "outputs": [],
   "source": [
    "anchorageInspectsAndZips.dropna()"
   ]
  },
  {
   "cell_type": "code",
   "execution_count": null,
   "id": "d255f304",
   "metadata": {},
   "outputs": [],
   "source": [
    "anchorageInspectsAndZips.info()"
   ]
  },
  {
   "cell_type": "code",
   "execution_count": null,
   "id": "5732267a",
   "metadata": {},
   "outputs": [],
   "source": [
    "#Number of restuarants locations - based on business id\n",
    "anchorageInspectsAndZips.business_id.nunique()"
   ]
  },
  {
   "cell_type": "code",
   "execution_count": null,
   "id": "ceb197d5",
   "metadata": {},
   "outputs": [],
   "source": [
    "#Number of different restaurant names. I'm thinking the reason this one is different than the amount \n",
    "#above is you can have two of the same restaurant but different ids for different locations.\n",
    "anchorageInspectsAndZips.business_name.nunique()"
   ]
  },
  {
   "cell_type": "code",
   "execution_count": null,
   "id": "1222628f",
   "metadata": {},
   "outputs": [],
   "source": [
    "#Amount of different postal codes in this dataset for San Francisco\n",
    "anchorageInspectsAndZips.postal_code.nunique()"
   ]
  },
  {
   "cell_type": "code",
   "execution_count": null,
   "id": "77c0dd05",
   "metadata": {},
   "outputs": [],
   "source": [
    "#Number of restaurants per postal code\n",
    "restaurantsPerPostalCodeCount = anchorageInspectsAndZips.groupby(['postal_code'])['business_id'].nunique()\n",
    "restaurantsPerPostalCodeCount_df = pd.DataFrame(restaurantsPerPostalCodeCount).reset_index()\n",
    "restaurantsPerPostalCodeCount_df = restaurantsPerPostalCodeCount_df.rename(columns={'business_id': 'restaurant_count'})\n",
    "restaurantsPerPostalCodeCount_df.sort_values(by=['restaurant_count'], ascending=False, inplace=True)\n",
    "restaurantsPerPostalCodeCount_df"
   ]
  },
  {
   "cell_type": "code",
   "execution_count": null,
   "id": "16843484",
   "metadata": {},
   "outputs": [],
   "source": [
    "#Top 10 Zip Codes in Anchorage with the most restaurants\n",
    "topTenZips = restaurantsPerPostalCodeCount_df.head(10)\n",
    "topTenZips"
   ]
  },
  {
   "cell_type": "code",
   "execution_count": null,
   "id": "66fa077f",
   "metadata": {},
   "outputs": [],
   "source": [
    "#Number of restaurants per postal code\n",
    "restaurantsPerPostalCodeCount = anchorageInspectsAndZips.groupby(['postal_code','business_name'])['business_id'].nunique()\n",
    "restaurantsPerPostalCodeCount_df = pd.DataFrame(restaurantsPerPostalCodeCount).reset_index()\n",
    "restaurantsPerPostalCodeCount_df = restaurantsPerPostalCodeCount_df.rename(columns={'business_id': 'restaurant_count'})\n",
    "restaurantsPerPostalCodeCount_df.sort_values(by=['restaurant_count'], ascending=False, inplace=True)\n",
    "restaurantsPerPostalCodeCount_df"
   ]
  },
  {
   "cell_type": "code",
   "execution_count": null,
   "id": "3d89b98f",
   "metadata": {},
   "outputs": [],
   "source": [
    "#Inspections in the dataset that have a score greater than 90 \n",
    "above90_df = pd.DataFrame(anchorageInspectsAndZips[anchorageInspectsAndZips['inspection_score'] >= 90].value_counts())\n",
    "above90_df"
   ]
  },
  {
   "cell_type": "code",
   "execution_count": null,
   "id": "719f3ca1",
   "metadata": {},
   "outputs": [],
   "source": [
    "anchorageInspectsAndZips.inspection_score.max()"
   ]
  },
  {
   "cell_type": "code",
   "execution_count": null,
   "id": "8a120c76",
   "metadata": {},
   "outputs": [],
   "source": [
    "anchorageInspectsAndZips.business_id.nunique()"
   ]
  },
  {
   "cell_type": "code",
   "execution_count": null,
   "id": "1c917509",
   "metadata": {},
   "outputs": [],
   "source": [
    "#Inspections in the dataset that have a score between 80 and 89 \n",
    "between80And89_df = pd.DataFrame(anchorageInspectsAndZips[anchorageInspectsAndZips['inspection_score'].between(80, 89)].value_counts())\n",
    "between80And89_df"
   ]
  },
  {
   "cell_type": "code",
   "execution_count": null,
   "id": "52fc2a71",
   "metadata": {},
   "outputs": [],
   "source": [
    "#Inspections in the dataset that have a score between 70 and 79\n",
    "between70And79_df = pd.DataFrame(anchorageInspectsAndZips[anchorageInspectsAndZips['inspection_score'].between(70, 79)].value_counts())\n",
    "between70And79_df"
   ]
  },
  {
   "cell_type": "code",
   "execution_count": null,
   "id": "7cf5c2fc",
   "metadata": {},
   "outputs": [],
   "source": [
    "#Inspections in the dataset that have a score between 60 and 69\n",
    "between60And69_df = pd.DataFrame(anchorageInspectsAndZips[anchorageInspectsAndZips['inspection_score'].between(60, 69)].value_counts())\n",
    "between60And69_df"
   ]
  },
  {
   "cell_type": "code",
   "execution_count": null,
   "id": "f2059e48",
   "metadata": {},
   "outputs": [],
   "source": [
    "#Inspections in the dataset that have a score between 50 and 59\n",
    "between50And59_df = pd.DataFrame(anchorageInspectsAndZips[anchorageInspectsAndZips['inspection_score'].between(50, 59)].value_counts())\n",
    "between50And59_df"
   ]
  },
  {
   "cell_type": "code",
   "execution_count": null,
   "id": "61623336",
   "metadata": {},
   "outputs": [],
   "source": [
    "#Inspections in the dataset that have a score between 40 and 49\n",
    "between40And49_df = pd.DataFrame(anchorageInspectsAndZips[anchorageInspectsAndZips['inspection_score'].between(40, 49)].value_counts())\n",
    "between40And49_df"
   ]
  },
  {
   "cell_type": "code",
   "execution_count": null,
   "id": "df514c9d",
   "metadata": {},
   "outputs": [],
   "source": [
    "#Inspections in the dataset that have a score between 30 and 39\n",
    "between30And39_df = pd.DataFrame(anchorageInspectsAndZips[anchorageInspectsAndZips['inspection_score'].between(30, 39)].value_counts())\n",
    "between30And39_df"
   ]
  },
  {
   "cell_type": "code",
   "execution_count": null,
   "id": "1c2df88d",
   "metadata": {},
   "outputs": [],
   "source": [
    "#Inspections in the dataset that have a score between 20 and 29\n",
    "between20And29_df = pd.DataFrame(anchorageInspectsAndZips[anchorageInspectsAndZips['inspection_score'].between(20, 29)].value_counts())\n",
    "between20And29_df"
   ]
  },
  {
   "cell_type": "code",
   "execution_count": null,
   "id": "d7b2c384",
   "metadata": {},
   "outputs": [],
   "source": [
    "#Inspections in the dataset that have a score between 10 and 19\n",
    "between10And19_df = pd.DataFrame(anchorageInspectsAndZips[anchorageInspectsAndZips['inspection_score'].between(10, 19)].value_counts())\n",
    "between10And19_df"
   ]
  },
  {
   "cell_type": "code",
   "execution_count": null,
   "id": "b9fce822",
   "metadata": {},
   "outputs": [],
   "source": [
    "#Inspections in the dataset that have a score between 0 and 9\n",
    "between0And9_df = pd.DataFrame(anchorageInspectsAndZips[anchorageInspectsAndZips['inspection_score'].between(0, 9)].value_counts())\n",
    "between0And9_df"
   ]
  },
  {
   "cell_type": "code",
   "execution_count": null,
   "id": "e8cd5443",
   "metadata": {},
   "outputs": [],
   "source": [
    "inspectionTypesByRestaurant_df = anchorageInspectsAndZips.groupby(['business_id', 'business_name'])['inspection_type'].value_counts().to_frame()\n",
    "inspectionTypesByRestaurant_df"
   ]
  },
  {
   "cell_type": "code",
   "execution_count": null,
   "id": "63ae520f",
   "metadata": {},
   "outputs": [],
   "source": [
    "violationDescrByRestaurant_df = anchorageInspectsAndZips.groupby(['business_id', 'business_name'])['violation_description'].value_counts().to_frame()\n",
    "violationDescrByRestaurant_df"
   ]
  },
  {
   "cell_type": "code",
   "execution_count": null,
   "id": "3ae35f86",
   "metadata": {},
   "outputs": [],
   "source": [
    "#Total Inspections per year\n",
    "\n",
    "inspectionsPerYear_df = anchorageInspectsAndZips.groupby('inspection_year')['business_id'].count()\n",
    "inspectionsPerYear = anchorageInspectsAndZips['inspection_year'].value_counts()\n",
    "inspectionsPerYear_df = inspectionsPerYear.reset_index()\n",
    "inspectionsPerYear_df = inspectionsPerYear_df.rename(columns={'index':'year', 'inspection_year': 'inspection_count'})\n",
    "inspectionsPerYear_df = inspectionsPerYear_df.loc[inspectionsPerYear_df['year'].isin(['2016', '2017', '2018', '2019'])]\n",
    "inspectionsPerYear_df"
   ]
  },
  {
   "cell_type": "code",
   "execution_count": null,
   "id": "dd39c08d",
   "metadata": {},
   "outputs": [],
   "source": [
    "#Inspections per month for 2016\n",
    "\n",
    "inspections2016 =  anchorageInspectsAndZips.loc[anchorageInspectsAndZips['inspection_year'].isin(['2016'])]\n",
    "inspectionsBy2016 = inspections2016.groupby(['postal_code','inspection_month'])['business_id'].count()\n",
    "inspectionsBy2016.reset_index()\n",
    "inspectionsBy2016_df = pd.DataFrame(inspectionsBy2016)                                 \n",
    "inspectionsBy2016_df"
   ]
  },
  {
   "cell_type": "code",
   "execution_count": null,
   "id": "d7df52fc",
   "metadata": {},
   "outputs": [],
   "source": [
    "#Inspections per month for 2017\n",
    "inspections2017 =  anchorageInspectsAndZips.loc[anchorageInspectsAndZips['inspection_year'].isin(['2017'])]\n",
    "inspectionsBy2017 = inspections2017.groupby(['postal_code','inspection_month'])['business_id'].count()\n",
    "inspectionsBy2017.reset_index()\n",
    "inspectionsBy2017_df = pd.DataFrame(inspectionsBy2017)                                 \n",
    "inspectionsBy2017_df"
   ]
  },
  {
   "cell_type": "code",
   "execution_count": null,
   "id": "de19ee56",
   "metadata": {},
   "outputs": [],
   "source": [
    "#Inspections per month for 2018\n",
    "inspections2018 =  anchorageInspectsAndZips.loc[anchorageInspectsAndZips['inspection_year'].isin(['2018'])]\n",
    "inspectionsBy2018 = inspections2018.groupby(['postal_code','inspection_month'])['business_id'].count()\n",
    "inspectionsBy2018.reset_index()\n",
    "inspectionsBy2018_df = pd.DataFrame(inspectionsBy2018)                                 \n",
    "inspectionsBy2018_df"
   ]
  },
  {
   "cell_type": "code",
   "execution_count": null,
   "id": "d6740386",
   "metadata": {},
   "outputs": [],
   "source": [
    "#Inspections per month for 2019\n",
    "inspections2019 =  anchorageInspectsAndZips.loc[anchorageInspectsAndZips['inspection_year'].isin(['2019'])]\n",
    "inspectionsBy2019 = inspections2019.groupby(['postal_code','inspection_month'])['business_id'].count()\n",
    "inspectionsBy2019.reset_index()\n",
    "inspectionsBy2019_df = pd.DataFrame(inspectionsBy2019)                                 \n",
    "inspectionsBy2019_df"
   ]
  },
  {
   "cell_type": "code",
   "execution_count": null,
   "id": "30391887",
   "metadata": {},
   "outputs": [],
   "source": [
    "#Average Inspections per restaurant for years 2016 - 2019\n",
    "common_years = anchorageInspectsAndZips.loc[anchorageInspectsAndZips['inspection_year'].isin(['2016', '2017', '2018', '2019'])]\n",
    "#business_name_count = anchorageInspectsAndZips['business_name'].count()\n",
    "#business_id_count = anchorageInspectsAndZips['business_id'].nunique()\n",
    "#inspectionsPerYearMean = common_years.groupby('inspection_year')[business_id_count/business_name_count]\n",
    "\n",
    "\n",
    "#inspectionsPerYearMean = common_years.groupby('inspection_year').agg([len(['business_id'])/['business_id'].nunique()])\n",
    "#inspectionsPerYearMean\n",
    "\n",
    "#common_years_2 = common_years.groupby(['business_id', 'inspection_year']).agg('mean')\n",
    "\n",
    "#[len(['business_id'])]#.transform('mean')\n",
    "\n",
    "common_years\n",
    "#inspectionsPerYearMean\n",
    "\n",
    "\n",
    "#business_name_count = 16560\n",
    "#business_id_count = 1513\n",
    "#common_years\n",
    "\n",
    "\n"
   ]
  },
  {
   "cell_type": "code",
   "execution_count": null,
   "id": "3a34a47a",
   "metadata": {},
   "outputs": [],
   "source": [
    "common_years_df = common_years.groupby('inspection_year')['business_id'].value_counts().to_frame()\n",
    "common_years_df.head()"
   ]
  },
  {
   "cell_type": "code",
   "execution_count": null,
   "id": "b64995f2",
   "metadata": {},
   "outputs": [],
   "source": [
    "#Total inspection for each year and postal code\n",
    "inspectionsPerZipAndYear = anchorageInspectsAndZips.groupby('postal_code')['inspection_year'].value_counts()\n",
    "inspectionsPerZipAndYear_df = pd.DataFrame(inspectionsPerZipAndYear)\n",
    "#inspectionsPerZipAndYear_df = inspectionsPerZipAndYear_df.rename(columns={'index':'year', 'inspection_year': 'inspection_count'})\n",
    "inspectionsPerZipAndYear_df"
   ]
  },
  {
   "cell_type": "code",
   "execution_count": null,
   "id": "0ecd2880",
   "metadata": {},
   "outputs": [],
   "source": [
    "#Inspections per zip and year\n",
    "inspectionsPerZipAndYear = anchorageInspectsAndZips.groupby(['inspection_year', 'business_name'])['inspection_score'].count()\n",
    "inspectionsPerZipAndYear_df = pd.DataFrame(inspectionsPerZipAndYear)\n",
    "inspectionsPerZipAndYear_df"
   ]
  },
  {
   "cell_type": "code",
   "execution_count": null,
   "id": "38616115",
   "metadata": {},
   "outputs": [],
   "source": [
    "#Population per zip\n",
    "popPerZip = anchorageInspectsAndZips.groupby('postal_code').postal_code_population.value_counts().to_frame()\n",
    "popPerZip = popPerZip = popPerZip.rename(columns={'postal_code_population': 'count'})\n",
    "popPerZip = popPerZip.reset_index()\n",
    "popPerZip.sort_values(by=['postal_code_population'], ascending=False, inplace=True)\n",
    "popPerZip = popPerZip.drop(['count'], axis=1)\n",
    "popPerZip = popPerZip.head(17)\n",
    "popPerZip\n"
   ]
  },
  {
   "cell_type": "code",
   "execution_count": null,
   "id": "f406db58",
   "metadata": {},
   "outputs": [],
   "source": [
    "popPerZipSum = popPerZip['postal_code_population'].sum()\n",
    "popPerZipSum"
   ]
  },
  {
   "cell_type": "code",
   "execution_count": null,
   "id": "3dc8667f",
   "metadata": {},
   "outputs": [],
   "source": [
    "#Average Score for Top 5 Zips based on population\n",
    "zipPopScore = anchorageInspectsAndZips[anchorageInspectsAndZips['inspection_year'].isin(['2016', '2017', '2018', '2019'])]\n",
    "zipPopScore_df = zipPopScore.groupby(['postal_code', 'postal_code_population'])['inspection_score'].mean().to_frame()\n",
    "zipPopScore_df = zipPopScore_df.reset_index()\n",
    "zipPopScore_df = zipPopScore_df.rename(columns={'inspection_score': 'average_score'})\n",
    "zipPopScore_df = zipPopScore_df.sort_values(by='postal_code_population', ascending=False)\n",
    "top5zipPopScore_df = zipPopScore_df.head()\n",
    "top5zipPopScore_df\n",
    "\n",
    "sns.scatterplot(data=top5zipPopScore_df, x=\"postal_code_population\", y=\"average_score\", hue='postal_code', palette='viridis');"
   ]
  },
  {
   "cell_type": "code",
   "execution_count": null,
   "id": "3fcc7dbe",
   "metadata": {},
   "outputs": [],
   "source": [
    "#Average Score for Bottom 5 Zips based on population\n",
    "zipPopScore = anchorageInspectsAndZips[anchorageInspectsAndZips['inspection_year'].isin(['2016', '2017', '2018', '2019'])]\n",
    "zipPopScore_df = zipPopScore.groupby(['postal_code', 'postal_code_population'])['inspection_score'].mean().to_frame()\n",
    "zipPopScore_df = zipPopScore_df.reset_index()\n",
    "zipPopScore_df = zipPopScore_df.rename(columns={'inspection_score': 'average_score'})\n",
    "zipPopScore_df = zipPopScore_df.sort_values(by='postal_code_population', ascending=False)\n",
    "zipPopScore_df = zipPopScore_df[zipPopScore_df.postal_code_population > 0]\n",
    "bottom5zipPopScore_df = zipPopScore_df.tail()\n",
    "bottom5zipPopScore_df\n",
    " \n",
    "\n",
    "\n",
    "\n",
    "sns.scatterplot(data=bottom5zipPopScore_df, x=\"postal_code_population\", y=\"average_score\", hue='postal_code', palette='ch:s=.25,rot=-.25');"
   ]
  },
  {
   "cell_type": "code",
   "execution_count": null,
   "id": "8dbd06a0",
   "metadata": {},
   "outputs": [],
   "source": [
    "zipPopScore2016 = anchorageInspectsAndZips[anchorageInspectsAndZips['inspection_year'].isin(['2016'])]\n",
    "zipPopScore2016_df = zipPopScore2016.groupby(['postal_code', 'postal_code_population'])['inspection_score'].mean().to_frame()\n",
    "zipPopScore2016_df = zipPopScore2016_df.reset_index()\n",
    "zipPopScore2016_df = zipPopScore2016_df.rename(columns={'inspection_score': 'average_score'})\n",
    "zipPopScore2016_df = zipPopScore2016_df.sort_values(by='postal_code_population', ascending=False)\n",
    "Top10zipPopScore2016_df = zipPopScore2016_df.head(10)\n",
    "Top10zipPopScore2016_df\n",
    "\n",
    "\n",
    "#ax = Top10zipPopScore2016_df.plot(kind='scatter',  figsize=(7, 5), cmap='viridis', rot=0, width=.8)\n",
    "#ax.legend(title='Postal Code', bbox_to_anchor=(1,1), loc='upper left')\n",
    "#plt.xticks(rotation=60)\n",
    "#plt.tight_layout()\n",
    "#plt.savefig('')\n",
    "#ax.set_title('2016', fontsize=20)\n",
    "#ax.set_xlabel(xlabel='Population', fontsize=12)\n",
    "#ax.set_ylabel('Average Score', fontsize=12)\n",
    "#plt.show()\n",
    "\n",
    "\n",
    "#sns.scatterplot(data=Top10zipPopScore2016_df, x=\"postal_code_population\", y=\"average_score\", hue='postal_code', style=\"postal_code\");"
   ]
  },
  {
   "cell_type": "code",
   "execution_count": null,
   "id": "c0e866f0",
   "metadata": {},
   "outputs": [],
   "source": [
    "zipPopScore2016 = anchorageInspectsAndZips[anchorageInspectsAndZips['inspection_year'].isin(['2016'])]\n",
    "zipPopScore2016_df = zipPopScore2016.groupby(['postal_code', 'postal_code_population'])['inspection_score'].mean().to_frame()\n",
    "zipPopScore2016_df = zipPopScore2016_df.reset_index()\n",
    "zipPopScore2016_df = zipPopScore2016_df.rename(columns={'inspection_score': 'average_score'})\n",
    "zipPopScore2016_df = zipPopScore2016_df.sort_values(by='postal_code_population', ascending=False)\n",
    "Top10zipPopScore2016_df = zipPopScore2016_df.head(10)\n",
    "Top10zipPopScore2016_df"
   ]
  },
  {
   "cell_type": "code",
   "execution_count": null,
   "id": "059d2443",
   "metadata": {},
   "outputs": [],
   "source": [
    "avgInspectScorePerYear = anchorageInspectsAndZips.groupby('inspection_year')['inspection_score'].mean().to_frame()\n",
    "avgInspectScorePerYear = avgInspectScorePerYear.rename(columns={'inspection_year':'year', 'inspection_score' :'score'})\n",
    "avgInspectScorePerYear = avgInspectScorePerYear.reset_index()\n",
    "avgInspectScorePerYear"
   ]
  },
  {
   "cell_type": "code",
   "execution_count": null,
   "id": "c51662ae",
   "metadata": {},
   "outputs": [],
   "source": [
    "avgInspectScorePerYear = anchorageInspectsAndZips.groupby(['postal_code','inspection_year'])['inspection_score'].mean().to_frame()\n",
    "avgInspectScorePerYear = avgInspectScorePerYear.rename(columns={'inspection_year':'year', 'inspection_score' :'score'})\n",
    "avgInspectScorePerYear = avgInspectScorePerYear.reset_index()\n",
    "avgInspectScorePerYear"
   ]
  },
  {
   "cell_type": "code",
   "execution_count": null,
   "id": "4ffe8710",
   "metadata": {},
   "outputs": [],
   "source": [
    "#Average Score: 2016-2019\n",
    "years = anchorageInspectsAndZips[anchorageInspectsAndZips['inspection_year'].isin(['2016', '2017', '2018', '2019'])]\n",
    "avgScorePerMonth = years.groupby('inspection_month')['inspection_score'].mean().to_frame()\n",
    "avgScorePerMonth = avgScorePerMonth.rename(columns={'inspection_score' : 'score'})\n",
    "avgScorePerMonth = avgScorePerMonth.reset_index()\n",
    "avgScorePerMonth\n",
    "\n",
    "#Line chart\n",
    "plt.plot(avgScorePerMonth.inspection_month, avgScorePerMonth.score)\n",
    "plt.xlabel('Month', fontsize=16)\n",
    "plt.ylabel('Score', fontsize=16)\n",
    "plt.show()"
   ]
  },
  {
   "cell_type": "code",
   "execution_count": null,
   "id": "8811674c",
   "metadata": {},
   "outputs": [],
   "source": [
    "#2016 Only\n",
    "year2016 = anchorageInspectsAndZips[anchorageInspectsAndZips['inspection_year'].isin(['2016'])]\n",
    "avgScorePerMonth2016 = year2016.groupby('inspection_month')['inspection_score'].mean().to_frame()\n",
    "avgScorePerMonth2016 = avgScorePerMonth2016.rename(columns={'inspection_score' : 'score'})\n",
    "avgScorePerMonth2016 = avgScorePerMonth2016.reset_index()\n",
    "\n",
    "#Line chart\n",
    "plt.plot(avgScorePerMonth2016.inspection_month, avgScorePerMonth2016.score)\n",
    "plt.xlabel('Month', fontsize=16)\n",
    "plt.ylabel('Score', fontsize=16)\n",
    "plt.show()"
   ]
  },
  {
   "cell_type": "code",
   "execution_count": null,
   "id": "9727f62a",
   "metadata": {},
   "outputs": [],
   "source": [
    "#2017 Only\n",
    "year2017 = anchorageInspectsAndZips[anchorageInspectsAndZips['inspection_year'].isin(['2017'])]\n",
    "avgScorePerMonth2017 = year2017.groupby('inspection_month')['inspection_score'].mean().to_frame()\n",
    "avgScorePerMonth2017 = avgScorePerMonth2017.rename(columns={'inspection_score' : 'score'})\n",
    "avgScorePerMonth2017 = avgScorePerMonth2017.reset_index()\n",
    "avgScorePerMonth2017 \n",
    "\n",
    "#Line Chart\n",
    "plt.plot(avgScorePerMonth2017.inspection_month, avgScorePerMonth2017.score)\n",
    "plt.xlabel('Month', fontsize=16)\n",
    "plt.ylabel('Score', fontsize=16)\n",
    "plt.show()"
   ]
  },
  {
   "cell_type": "code",
   "execution_count": null,
   "id": "744304a9",
   "metadata": {},
   "outputs": [],
   "source": [
    "#2018 Only\n",
    "year2018 = anchorageInspectsAndZips[anchorageInspectsAndZips['inspection_year'].isin(['2018'])]\n",
    "avgScorePerMonth2018 = year2018.groupby('inspection_month')['inspection_score'].mean().to_frame()\n",
    "avgScorePerMonth2018 = avgScorePerMonth2018.rename(columns={'inspection_score' : 'score'})\n",
    "avgScorePerMonth2018 = avgScorePerMonth2018.reset_index()\n",
    "#avgScorePerMonth2018\n",
    "\n",
    "#Line Chart\n",
    "plt.plot(avgScorePerMonth2018.inspection_month, avgScorePerMonth2018.score)\n",
    "plt.xlabel('Month', fontsize=16)\n",
    "plt.ylabel('Score', fontsize=16)\n",
    "plt.show()"
   ]
  },
  {
   "cell_type": "code",
   "execution_count": null,
   "id": "47c6544b",
   "metadata": {},
   "outputs": [],
   "source": [
    "#2019 Only\n",
    "year2019 = anchorageInspectsAndZips[anchorageInspectsAndZips['inspection_year'].isin(['2019'])]\n",
    "avgScorePerMonth2019 = year2019.groupby('inspection_month')['inspection_score'].mean().to_frame()\n",
    "avgScorePerMonth2019 = avgScorePerMonth2019.rename(columns={'inspection_score' : 'score'})\n",
    "avgScorePerMonth2019 = avgScorePerMonth2019.reset_index()\n",
    "#avgScorePerMonth2019\n",
    "\n",
    "#Line Chart\n",
    "plt.plot(avgScorePerMonth2019.inspection_month, avgScorePerMonth2019.score)\n",
    "plt.xlabel('Month', fontsize=16)\n",
    "plt.ylabel('Score', fontsize=16)\n",
    "plt.show()"
   ]
  },
  {
   "cell_type": "code",
   "execution_count": null,
   "id": "06d84cc0",
   "metadata": {},
   "outputs": [],
   "source": [
    "violDescrCount = years['violation_description'].value_counts(normalize=True).to_frame()\n",
    "top10violDescrCount = violDescrCount.head(10)\n",
    "top10violDescrCount = top10violDescrCount.reset_index()\n",
    "top10violDescrCount = top10violDescrCount.rename(columns={'index' : 'violation_description', 'violation_description' : 'count'})\n",
    "top10violDescrCount\n",
    "\n",
    "\n",
    "sns.set(font_scale = 10)\n",
    "sns.set_style('darkgrid')\n",
    "sns.set(rc={\"figure.figsize\":(15,12)})\n",
    "cmap = sns.color_palette('ch:s=.25,rot=-.25')\n",
    "ax = sns.barplot(x='count', y='violation_description', data=top10violDescrCount, palette=cmap)\n",
    "cmap = sns.color_palette('viridis')\n",
    "plt.xlabel('Number of Occurrences', fontdict= {'fontsize':20, 'fontweight':'bold'})\n",
    "plt.ylabel('Violation Name', fontdict= {'fontsize':20, 'fontweight':'bold'})\n",
    "plt.title(\"Top 10 Violation Occurrences for 2016-2019\",fontdict= { 'fontsize': 30, 'fontweight':'bold','verticalalignment': 'center'})\n",
    "plt.xticks(fontsize=17, rotation=60)\n",
    "plt.yticks(fontsize=17)\n",
    ";"
   ]
  },
  {
   "cell_type": "code",
   "execution_count": null,
   "id": "8b173511",
   "metadata": {},
   "outputs": [],
   "source": [
    "#Violation Descriptions for 2016\n",
    "violDescr2016 = year2016['violation_description'].value_counts().to_frame()\n",
    "violDescr2016 = violDescr2016.reset_index()\n",
    "violDescr2016 = violDescr2016.rename(columns={'index' : 'violation_description', 'violation_description' : 'occurences'})\n",
    "top10violDescr2016 = violDescr2016.head(10)\n",
    "\n",
    "sns.set(font_scale = 10)\n",
    "sns.set_style('darkgrid')\n",
    "sns.set(rc={\"figure.figsize\":(15,12)})\n",
    "cmap = sns.color_palette('ch:s=.25,rot=-.25')\n",
    "ax = sns.barplot(x='occurences', y='violation_description', data=top10violDescr2016, palette=cmap)\n",
    "cmap = sns.color_palette('viridis')\n",
    "plt.xlabel('Number of Occurrences', fontdict= {'fontsize':20, 'fontweight':'bold'})\n",
    "plt.ylabel('Violation Name', fontdict= {'fontsize':20, 'fontweight':'bold'})\n",
    "plt.title(\"Top 10 Violation Occurrences for 2016\",fontdict= { 'fontsize': 30, 'fontweight':'bold','verticalalignment': 'center'})\n",
    "plt.xticks(fontsize=17, rotation=60)\n",
    "plt.yticks(fontsize=17);\n",
    ";"
   ]
  },
  {
   "cell_type": "code",
   "execution_count": null,
   "id": "01d913eb",
   "metadata": {},
   "outputs": [],
   "source": [
    "#Violation Descriptions for 2017\n",
    "violDescr2017 = year2017['violation_description'].value_counts().to_frame()\n",
    "violDescr2017 = violDescr2017.reset_index()\n",
    "violDescr2017 = violDescr2017.rename(columns={'index' : 'violation_description', 'violation_description' : 'occurences'})\n",
    "top10violDescr2017 = violDescr2017.head(10)\n",
    "\n",
    "\n",
    "sns.set(font_scale = 10)\n",
    "sns.set_style('darkgrid')\n",
    "sns.set(rc={\"figure.figsize\":(15,12)})\n",
    "cmap = sns.color_palette('ch:s=.25,rot=-.25')\n",
    "ax = sns.barplot(x='occurences', y='violation_description', data=top10violDescr2017, palette=cmap)\n",
    "cmap = sns.color_palette('viridis')\n",
    "plt.xlabel('Number of Occurrences', fontdict= {'fontsize':20, 'fontweight':'bold'})\n",
    "plt.ylabel('Violation Name', fontdict= {'fontsize':20, 'fontweight':'bold'})\n",
    "plt.title(\"Top 10 Violation Occurrences for 2017\",fontdict= { 'fontsize': 30, 'fontweight':'bold','verticalalignment': 'center'})\n",
    "plt.xticks(fontsize=17, rotation=60)\n",
    "plt.yticks(fontsize=17);"
   ]
  },
  {
   "cell_type": "code",
   "execution_count": null,
   "id": "967521a9",
   "metadata": {},
   "outputs": [],
   "source": [
    "violDescr2018 = year2018['violation_description'].value_counts().to_frame()\n",
    "violDescr2018 = violDescr2018.reset_index()\n",
    "violDescr2018 = violDescr2018.rename(columns={'index' : 'violation_description', 'violation_description' : 'occurrences'})\n",
    "top10violDescr2018 = violDescr2018.head(10)\n",
    "\n",
    "\n",
    "sns.set(font_scale = 10)\n",
    "sns.set_style('darkgrid')\n",
    "sns.set(rc={\"figure.figsize\":(15,12)})\n",
    "cmap = sns.color_palette('ch:s=.25,rot=-.25')\n",
    "ax = sns.barplot(x='occurrences', y='violation_description', data=top10violDescr2018, palette=cmap)\n",
    "cmap = sns.color_palette('viridis')\n",
    "plt.xlabel('Number of Occurrences', fontdict= {'fontsize':20, 'fontweight':'bold'})\n",
    "plt.ylabel('Violation Name', fontdict= {'fontsize':20, 'fontweight':'bold'})\n",
    "plt.title(\"Top 10 Violation Occurrences for 2018\",fontdict= { 'fontsize': 30, 'fontweight':'bold','verticalalignment': 'center'})\n",
    "plt.xticks(fontsize=17, rotation=60)\n",
    "plt.yticks(fontsize=17);"
   ]
  },
  {
   "cell_type": "code",
   "execution_count": null,
   "id": "ad4f41f6",
   "metadata": {},
   "outputs": [],
   "source": [
    "violDescr2019 = year2019['violation_description'].value_counts().to_frame()\n",
    "violDescr2019 = violDescr2019.reset_index()\n",
    "violDescr2019 = violDescr2019.rename(columns={'index' : 'violation_description', 'violation_description' : 'occurences'})\n",
    "top10violDescr2019 = violDescr2019.head(10)\n",
    "\n",
    "\n",
    "sns.set(font_scale = 10)\n",
    "sns.set_style('darkgrid')\n",
    "sns.set(rc={\"figure.figsize\":(15,12)})\n",
    "cmap = sns.color_palette('ch:s=.25,rot=-.25')\n",
    "ax = sns.barplot(x='occurences', y='violation_description', data=top10violDescr2019, palette=cmap)\n",
    "cmap = sns.color_palette('viridis')\n",
    "plt.xlabel('Number of Occurrences', fontdict= {'fontsize':20, 'fontweight':'bold'})\n",
    "plt.ylabel('Violation Name', fontdict= {'fontsize':20, 'fontweight':'bold'})\n",
    "plt.title(\"Top 10 Violation Occurrences for 2019\",fontdict= { 'fontsize': 30, 'fontweight':'bold','verticalalignment': 'center'})\n",
    "plt.xticks(fontsize=17, rotation=60)\n",
    "plt.yticks(fontsize=17);"
   ]
  },
  {
   "cell_type": "code",
   "execution_count": null,
   "id": "e87940e5",
   "metadata": {},
   "outputs": [],
   "source": [
    "Top10ZipByPop = anchorageInspectsAndZips.groupby('postal_code')['postal_code_population'].value_counts().to_frame()\n",
    "Top10ZipByPop = Top10ZipByPop.rename(columns={'postal_code_population': 'count'})\n",
    "Top10ZipByPop = Top10ZipByPop.reset_index() \n",
    "Top10ZipByPop.sort_values(by=['postal_code_population'], ascending=False, inplace=True)\n",
    "Top10ZipByPop = Top10ZipByPop.drop(['count'], axis=1)\n",
    "Top10ZipByPop = Top10ZipByPop.head(10)\n",
    "Top10ZipByPop\n",
    "#popPerZip = anchorageInspectsAndZips.groupby('postal_code').postal_code_population.value_counts().to_frame()\n",
    "#popPerZip = popPerZip = popPerZip.rename(columns={'postal_code_population': 'count'})\n",
    "#popPerZip = popPerZip.reset_index()\n",
    "#popPerZip.sort_values(by=['postal_code_population'], ascending=False, inplace=True)\n",
    "#popPerZip = popPerZip.drop(['count'], axis=1)\n",
    "#popPerZip = popPerZip.head(17)\n",
    "#popPerZip"
   ]
  },
  {
   "cell_type": "code",
   "execution_count": null,
   "id": "4ef16e6c",
   "metadata": {},
   "outputs": [],
   "source": [
    "#Frequency of Inspections\n",
    "anchorageInspectsAndZips.inspection_type.value_counts()"
   ]
  },
  {
   "cell_type": "code",
   "execution_count": null,
   "id": "c2fc0656",
   "metadata": {},
   "outputs": [],
   "source": []
  },
  {
   "cell_type": "code",
   "execution_count": null,
   "id": "9cefd19d",
   "metadata": {},
   "outputs": [],
   "source": []
  },
  {
   "cell_type": "code",
   "execution_count": null,
   "id": "a6d5ef20",
   "metadata": {},
   "outputs": [],
   "source": []
  },
  {
   "cell_type": "code",
   "execution_count": null,
   "id": "e458ac24",
   "metadata": {},
   "outputs": [],
   "source": []
  },
  {
   "cell_type": "code",
   "execution_count": null,
   "id": "9bf932ad",
   "metadata": {},
   "outputs": [],
   "source": [
    "#Subsetting by years\n",
    "yearsForDistribution = anchorageInspectsAndZips[anchorageInspectsAndZips['inspection_year'].isin(['2016', '2017', '2018', '2019'])]\n",
    "yearsForDistribution "
   ]
  },
  {
   "cell_type": "code",
   "execution_count": null,
   "id": "f91f2df1",
   "metadata": {},
   "outputs": [],
   "source": [
    "#Violation Counts and Distribution\n",
    "violationCountsByRest = yearsForDistribution.groupby('business_name')['violation_description'].count().to_frame()\n",
    "violationCountsByRest\n",
    "plt.hist(violationCountsByRest.violation_description);\n"
   ]
  },
  {
   "cell_type": "code",
   "execution_count": null,
   "id": "99e24f45",
   "metadata": {},
   "outputs": [],
   "source": [
    "#Population Density by Zip\n",
    "popDensityByZip_df = yearsForDistribution.groupby('postal_code')['density'].value_counts().to_frame()\n",
    "popDensityByZip_df = popDensityByZip_df.rename(columns={'density': 'count'})\n",
    "popDensityByZip_df = popDensityByZip_df.reset_index() \n",
    "popDensityByZip_df.sort_values(by=['density'], ascending=False, inplace=True)\n",
    "popDensityByZip_df = popDensityByZip_df.drop(['count'], axis=1)\n",
    "popDensityByZip_df  = popDensityByZip_df [popDensityByZip_df.density > 0]\n",
    "popDensityByZip_df  \n",
    "\n"
   ]
  },
  {
   "cell_type": "code",
   "execution_count": null,
   "id": "9583f01e",
   "metadata": {},
   "outputs": [],
   "source": [
    "plt.hist(popDensityByZip_df.density);"
   ]
  },
  {
   "cell_type": "code",
   "execution_count": null,
   "id": "adbd73c7",
   "metadata": {},
   "outputs": [],
   "source": [
    "#Beginning High Population Density by Zip\n",
    "topPopDensityByZip_df  = popDensityByZip_df.head()\n",
    "topPopDensityByZip_df"
   ]
  },
  {
   "cell_type": "code",
   "execution_count": null,
   "id": "c376bb87",
   "metadata": {},
   "outputs": [],
   "source": [
    "#Visualization\n"
   ]
  },
  {
   "cell_type": "code",
   "execution_count": null,
   "id": "74444161",
   "metadata": {},
   "outputs": [],
   "source": [
    "#Finding restaurants within high density zip codes\n",
    "restaurantsHighDensity = anchorageInspectsAndZips[anchorageInspectsAndZips['postal_code'].isin(['99508', \n",
    "                                                                                                '99517', \n",
    "                                                                                                '99518', \n",
    "                                                                                                '99501', \n",
    "                                                                                                '99515'\n",
    "                                                                                                ])]\n",
    "restaurantsHighDensity\n"
   ]
  },
  {
   "cell_type": "code",
   "execution_count": null,
   "id": "7d83b380",
   "metadata": {},
   "outputs": [],
   "source": [
    "#Restaurants for years 2016-2019 of top 5 high density pops\n",
    "restaurantsHighDensityYears = restaurantsHighDensity[restaurantsHighDensity['inspection_year'].isin(['2016', '2017', '2018', '2019'])]\n",
    "restaurantsHighDensityYears"
   ]
  },
  {
   "cell_type": "code",
   "execution_count": null,
   "id": "6572e3eb",
   "metadata": {},
   "outputs": [],
   "source": [
    "#Count of restaurants found in high density zip codes\n",
    "violationsTotalHighDen = restaurantsHighDensityYears['violation_description'].count()\n",
    "violationsTotalHighDen"
   ]
  },
  {
   "cell_type": "code",
   "execution_count": null,
   "id": "cbe1176d",
   "metadata": {},
   "outputs": [],
   "source": [
    "#Count of restaurants found in high density zip codes\n",
    "restaurantsTotalHighDen = restaurantsHighDensityYears['business_name'].nunique()\n",
    "restaurantsTotalHighDen"
   ]
  },
  {
   "cell_type": "code",
   "execution_count": null,
   "id": "9ae435c7",
   "metadata": {},
   "outputs": [],
   "source": [
    "result = violationsTotalHighDen / restaurantsTotalHighDen\n",
    "result"
   ]
  },
  {
   "cell_type": "code",
   "execution_count": null,
   "id": "d2e0d6bc",
   "metadata": {},
   "outputs": [],
   "source": []
  },
  {
   "cell_type": "code",
   "execution_count": null,
   "id": "bdce57f1",
   "metadata": {},
   "outputs": [],
   "source": []
  },
  {
   "cell_type": "code",
   "execution_count": null,
   "id": "19d09609",
   "metadata": {},
   "outputs": [],
   "source": []
  },
  {
   "cell_type": "code",
   "execution_count": null,
   "id": "17b34602",
   "metadata": {},
   "outputs": [],
   "source": []
  },
  {
   "cell_type": "code",
   "execution_count": null,
   "id": "d228c722",
   "metadata": {},
   "outputs": [],
   "source": [
    "#Beginning Low Population Density by Zip\n",
    "popLowDensityByZip_df = popDensityByZip_df.tail()\n",
    "popLowDensityByZipAsc_df = popLowDensityByZip_df.sort_values(by='density', ascending=True) \n",
    "popLowDensityByZipAsc_df"
   ]
  },
  {
   "cell_type": "code",
   "execution_count": null,
   "id": "f3f416e4",
   "metadata": {},
   "outputs": [],
   "source": [
    "#Finding restaurants within low density zip codes\n",
    "restaurantsLowDensity = anchorageInspectsAndZips[anchorageInspectsAndZips['postal_code'].isin(['99587', \n",
    "                                                                                               '99567', \n",
    "                                                                                               '99577', \n",
    "                                                                                               '99505', \n",
    "                                                                                               '99506'])]\n",
    "restaurantsLowDensity"
   ]
  },
  {
   "cell_type": "code",
   "execution_count": null,
   "id": "54b6d95e",
   "metadata": {},
   "outputs": [],
   "source": [
    "restaurantsLowDensityYears = restaurantsLowDensity[restaurantsLowDensity['inspection_year'].isin(['2016', '2017', '2018', '2019'])]\n",
    "restaurantsLowDensityYears"
   ]
  },
  {
   "cell_type": "code",
   "execution_count": null,
   "id": "66f67a59",
   "metadata": {},
   "outputs": [],
   "source": [
    "#Count of restaurants found in low density zip codes\n",
    "violationsTotalLowDen = restaurantsLowDensityYears['violation_description'].count()\n",
    "violationsTotalLowDen"
   ]
  },
  {
   "cell_type": "code",
   "execution_count": null,
   "id": "1b12fbd2",
   "metadata": {},
   "outputs": [],
   "source": [
    "restaurantsTotalLowDen = restaurantsLowDensityYears['business_name'].nunique()\n",
    "restaurantsTotalLowDen"
   ]
  },
  {
   "cell_type": "code",
   "execution_count": null,
   "id": "555fcb4c",
   "metadata": {},
   "outputs": [],
   "source": [
    "result = violationsTotalLowDen/restaurantsTotalLowDen\n",
    "result"
   ]
  },
  {
   "cell_type": "code",
   "execution_count": null,
   "id": "c09bc8a3",
   "metadata": {},
   "outputs": [],
   "source": []
  }
 ],
 "metadata": {
  "kernelspec": {
   "display_name": "Python 3 (ipykernel)",
   "language": "python",
   "name": "python3"
  },
  "language_info": {
   "codemirror_mode": {
    "name": "ipython",
    "version": 3
   },
   "file_extension": ".py",
   "mimetype": "text/x-python",
   "name": "python",
   "nbconvert_exporter": "python",
   "pygments_lexer": "ipython3",
   "version": "3.9.7"
  }
 },
 "nbformat": 4,
 "nbformat_minor": 5
}
