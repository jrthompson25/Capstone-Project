{
 "cells": [
  {
   "cell_type": "code",
   "execution_count": null,
   "id": "ad677900",
   "metadata": {
    "scrolled": false
   },
   "outputs": [],
   "source": [
    "import pandas as pd"
   ]
  },
  {
   "cell_type": "code",
   "execution_count": null,
   "id": "f708c3e3",
   "metadata": {
    "scrolled": true
   },
   "outputs": [],
   "source": [
    "#Reading in the ispections file\n",
    "restInspectAnchorage = pd.read_csv('../data/restaurant-and-food-inspections-of-anchorage-1.csv')\n",
    "restInspectAnchorage.info()"
   ]
  },
  {
   "cell_type": "code",
   "execution_count": null,
   "id": "f18d268c",
   "metadata": {},
   "outputs": [],
   "source": [
    "restInspectAnchorage"
   ]
  },
  {
   "cell_type": "code",
   "execution_count": null,
   "id": "369cfa97",
   "metadata": {},
   "outputs": [],
   "source": [
    "restInspectAnchorage['violation_description'].unique()"
   ]
  },
  {
   "cell_type": "code",
   "execution_count": null,
   "id": "787d8fe4",
   "metadata": {},
   "outputs": [],
   "source": [
    "restInspectAnchorage.isnull().sum()"
   ]
  },
  {
   "cell_type": "code",
   "execution_count": null,
   "id": "186d387f",
   "metadata": {},
   "outputs": [],
   "source": [
    "#Dropping unnecessary columns\n",
    "restInspectAnchorage.drop([\"business_address\", \"business_phone_number\", \"business_location\", \"violation_code\"], axis = 1, inplace = True)\n",
    "restInspectAnchorage.head()"
   ]
  },
  {
   "cell_type": "code",
   "execution_count": null,
   "id": "348e45b1",
   "metadata": {},
   "outputs": [],
   "source": [
    "#Getting info\n",
    "restInspectAnchorage.info()"
   ]
  },
  {
   "cell_type": "code",
   "execution_count": null,
   "id": "514b62dd",
   "metadata": {},
   "outputs": [],
   "source": [
    "#Checking to see how many unique inspection types there are\n",
    "restInspectAnchorage.inspection_type.unique()"
   ]
  },
  {
   "cell_type": "code",
   "execution_count": null,
   "id": "a899f8fd",
   "metadata": {},
   "outputs": [],
   "source": [
    "#Converting to Dataframe\n",
    "restInspectAnchorage_df = pd.DataFrame(restInspectAnchorage)"
   ]
  },
  {
   "cell_type": "code",
   "execution_count": null,
   "id": "cea0f581",
   "metadata": {},
   "outputs": [],
   "source": [
    "#Checking info after some cleanup was done\n",
    "restInspectAnchorage_df.info()"
   ]
  },
  {
   "cell_type": "code",
   "execution_count": null,
   "id": "c6c8315c",
   "metadata": {},
   "outputs": [],
   "source": [
    "#Removed url that was after each business id\n",
    "restInspectAnchorage_df.business_id = restInspectAnchorage_df.business_id.str[0:9]\n",
    "restInspectAnchorage_df"
   ]
  },
  {
   "cell_type": "code",
   "execution_count": null,
   "id": "dc3b3143",
   "metadata": {},
   "outputs": [],
   "source": [
    "#Number of restaurants\n",
    "restInspectAnchorage_df.business_id.nunique()"
   ]
  },
  {
   "cell_type": "code",
   "execution_count": null,
   "id": "55b6a814",
   "metadata": {},
   "outputs": [],
   "source": [
    "restInspectAnchorage_df.business_postal_code.nunique()"
   ]
  },
  {
   "cell_type": "code",
   "execution_count": null,
   "id": "4996e5f5",
   "metadata": {},
   "outputs": [],
   "source": [
    "restInspectAnchorage_df.business_postal_code = restInspectAnchorage_df.business_postal_code.astype(str)\n",
    "restInspectAnchorage_df.info()"
   ]
  },
  {
   "cell_type": "code",
   "execution_count": null,
   "id": "8c30a906",
   "metadata": {
    "scrolled": true
   },
   "outputs": [],
   "source": [
    "#Making postal code only the first five digits\n",
    "restInspectAnchorage_df.business_postal_code = restInspectAnchorage_df.business_postal_code.str[0:5]\n",
    "restInspectAnchorage_df"
   ]
  },
  {
   "cell_type": "code",
   "execution_count": null,
   "id": "039de60f",
   "metadata": {},
   "outputs": [],
   "source": [
    "restInspectAnchorage_df['inspection_month'] = restInspectAnchorage_df['inspection_date'].str[0:2]\n",
    "restInspectAnchorage_df['inspection_day'] = restInspectAnchorage_df['inspection_date'].str[3:5]\n",
    "restInspectAnchorage_df['inspection_year'] = restInspectAnchorage_df['inspection_date'].str[6:]\n",
    "restInspectAnchorage_df.head(40)"
   ]
  },
  {
   "cell_type": "code",
   "execution_count": null,
   "id": "d7051998",
   "metadata": {},
   "outputs": [],
   "source": [
    "restInspectAnchorage_df.drop([\"inspection_date\"], axis = 1, inplace = True)\n",
    "restInspectAnchorage_df.head(60)"
   ]
  },
  {
   "cell_type": "code",
   "execution_count": null,
   "id": "fa0784c3",
   "metadata": {},
   "outputs": [],
   "source": [
    "restInspectAnchorage_df.isnull().sum()"
   ]
  },
  {
   "cell_type": "code",
   "execution_count": null,
   "id": "0962006a",
   "metadata": {},
   "outputs": [],
   "source": [
    "#Replacement: Handwashing and Toilet Facilities and checking the dataframe - 1\n",
    "oldString1 = ['HANDWASHING FACILITIES SUPPLIED, ACCESSIBLE', \n",
    "              'Adequate handwashing facilities properly supplied',\n",
    "             '31  HANDWASHING SINKS ACCESSIBLE, INSTALLED',\n",
    "             'HANDWASHING SINK', '32  HANDSOAP/TOWELS, TOILET ROOMS CLEAN, PROVIDED']\n",
    "newString1 = 'Handwashing and Toilet Facilities'\n",
    "restInspectAnchorage_df['violation_description'].replace(oldString1, newString1, inplace=True)\n",
    "restInspectAnchorage_df.head(60)   \n",
    "\n",
    "\n",
    "\n",
    "\n",
    "    \n",
    "    \n",
    "    \n",
    "    "
   ]
  },
  {
   "cell_type": "code",
   "execution_count": null,
   "id": "956c30a8",
   "metadata": {},
   "outputs": [],
   "source": [
    "#Replacement: Employee Health and checking the dataframe - 2 \n",
    "oldString2 = ['12  HANDS CLEAN, GOOD HYGIENE, CERTIFICATION',\n",
    "              'HANDS CLEAN AND PROPERLY WASHED',\n",
    "              'C1X - Handwashing',\n",
    "              '11  PERSONNEL WITH INFECTIONS RESTRICTED',\n",
    "              'Hands clean and properly washed',\n",
    "              'EMPLOYEE HEALTH RESTRICTION AND EXCLUSION',\n",
    "              'EMPLOYEE HEALTH POLICY',\n",
    "              '12  HYGIENE, CERTIFICATION', 'DISCHARGE FROM EYES, NOSE, MOUTH',\n",
    "              'TB CLEARANCES']\n",
    "newString2 = 'Employee Health'\n",
    "restInspectAnchorage_df['violation_description'].replace(oldString2, newString2, inplace=True)\n",
    "restInspectAnchorage_df.head(60)"
   ]
  },
  {
   "cell_type": "code",
   "execution_count": null,
   "id": "161b09c2",
   "metadata": {},
   "outputs": [],
   "source": [
    "#Replacement: Temperature Control Procedures and checking the dataframe - 3\n",
    "oldString3 = ['PROPER COLD HOLDING TEMPERATURES',\n",
    "              'PROPER HOT HOLDING TEMPERATURES',\n",
    "              '03  FOOD TEMPERATURE MEETS REQUIREMENTS',\n",
    "              'PROPER REHEATING FOR HOT HOLDING',\n",
    "              'PROPER REHEATING FOR HOT HOLDING',\n",
    "              'Proper reheating procedures for hot holding',\n",
    "              'FOOD TEMPERATURE',\n",
    "              'PLANT FOOD PROPERLY COOKED FOR HOT HOLDING',\n",
    "              'Proper cooking time and temperatures',\n",
    "              'B1X Proper Cooling Process',\n",
    "              'E2X - Hot holding temperatures',\n",
    "              'FOOD RECEIVED AT PROPER TEMPERATURE',\n",
    "              'PROPER TEMPERATURE',\n",
    "              'PROPER COOKING TIME AND TEMPERATURE',\n",
    "              'PROPER COOLING TIME AND TEMPERATURES',\n",
    "              'Proper cold holding temperatures',\n",
    "              'Proper cooling time and temperatures',\n",
    "              'PROPER COOLING METHODS, ADEQUATE EQUIPMENT',\n",
    "              'APPROVED THAWING METHODS USED',\n",
    "              '06  POTENTIALLY HAZARDOUS FOOD PROPERLY THAWED',\n",
    "              'B2X - PHF maintained at 45/41 F.']\n",
    "newString3 = 'Temperature Control Procedures'\n",
    "restInspectAnchorage_df['violation_description'].replace(oldString3, newString3, inplace=True)\n",
    "restInspectAnchorage_df.head(40)"
   ]
  },
  {
   "cell_type": "code",
   "execution_count": null,
   "id": "9e3d4ae9",
   "metadata": {},
   "outputs": [],
   "source": [
    "#Replacement: Approved Source and checking the dataframe - 4\n",
    "oldString4 = ['FOOD FROM AN APPROVED SOURCE',\n",
    "              'Food obtained from approved source',\n",
    "              'Food obtained from approved source',\n",
    "              '01  FOOD FROM APPROVED SOURCE, SOUND CONDITION',\n",
    "              'WATER AND ICE FROM APPROVED SOURCE',\n",
    "              'Water & ice from approved source',\n",
    "              'HIGHLY SUSCEPTIBLE POPULATIONS, PROHIBITED FOODS',\n",
    "              'PASTEURIZED EGGS USED WHERE REQUIRED'\n",
    "]\n",
    "newString4 = 'Approved Source'\n",
    "restInspectAnchorage_df['violation_description'].replace(oldString4, newString4, inplace=True)\n"
   ]
  },
  {
   "cell_type": "code",
   "execution_count": null,
   "id": "69d4908f",
   "metadata": {
    "scrolled": true
   },
   "outputs": [],
   "source": [
    "restInspectAnchorage_df"
   ]
  },
  {
   "cell_type": "code",
   "execution_count": null,
   "id": "bba782c1",
   "metadata": {},
   "outputs": [],
   "source": [
    "#Replacement: Water, Sewage, Plumbing Systems - 5\n",
    "oldString5 = ['HOT AND COLD WATER AVAILABLE, ADEQUATE PRESSURE',\n",
    "              'SEWAGE AND WASTE WATER PROPERLY DISPOSED',\n",
    "              'Hot & cold water available; adequate pressure',\n",
    "              '28  PROPER SEWAGE AND WASTEWATER DISPOSAL',\n",
    "              'Plumbing installed; proper backflow devices',\n",
    "              '27  WATER SOURCE SAFE, HOT & COLD WATER PROVIDED',\n",
    "              '30  PLUMBING; PREVENT CROSS CONNECTION, BACKFLOW',\n",
    "              'PLUMBING INSTALLED, PROPER BACKFLOW DEVICES',\n",
    "              '11  Monthly water sampling',\n",
    "              '04  Pumps, balance tanks, filters - sized properly',\n",
    "              '06  Gutters, skimmers, strainers, drains, inlets',\n",
    "              '03  Filters approved, maintained, backwashed'\n",
    "\n",
    "]\n",
    "newString5 = 'Water, Sewage, Plumbing Systems'\n",
    "restInspectAnchorage_df['violation_description'].replace(oldString5, newString5, inplace=True)\n",
    "restInspectAnchorage_df.head(60)"
   ]
  },
  {
   "cell_type": "code",
   "execution_count": null,
   "id": "710e8c3e",
   "metadata": {},
   "outputs": [],
   "source": [
    "#Replacement: Cleaning of Equipment and Utensils - 6\n",
    "oldString6 = ['FOOD CONTACT SURFACES CLEAN AND SANITIZED',\n",
    "              '22  FOOD CONTACT SURFACES OF EQUIPMENT CLEAN',\n",
    "              'Food-contact surfaces: cleaned and sanitized',\n",
    "              'Nonfood-contact surfaces clean',\n",
    "              '23  NON-FOOD CONTACT SURFACES CLEAN',\n",
    "              'NONFOOD-CONTACT SURFACES CLEAN',\n",
    "              'WAREWASHING FACILITIES, INSTALLED,TEST STRIPS',\n",
    "              'Warewashing facilities: installed, maintained, & u',\n",
    "              '21  WIPING CLOTHS CLEAN, USE RESTRICTED',\n",
    "              'WIPING CLOTHS PROPERLY USED AND STORED',\n",
    "              'Wiping cloths: properly used & stored',\n",
    "              '18  SOILED DISHES PREFLUSHED, SCRAPED, SOAKED',\n",
    "              'UTENSILS & EQUIPMENT CLEANING FACILITES PROVIDED; NON-TOXIC; CLEAN',\n",
    "              '16  PROPER PROCEDURE/ MAINTENANCE OF DISHWASHING']\n",
    "newString6 = 'Cleaning of Equipment and Utensils'\n",
    "restInspectAnchorage_df['violation_description'].replace(oldString6, newString6, inplace=True)\n",
    "restInspectAnchorage_df.head(60)"
   ]
  },
  {
   "cell_type": "code",
   "execution_count": null,
   "id": "f0c0b04f",
   "metadata": {},
   "outputs": [],
   "source": [
    "#Replacement: Pest Control - 7\n",
    "oldString7 = ['INSECTS, RODENTS, ANIMALS NOT PRESENT',\n",
    "              'Insects, rodents, & animals not present; no unauth',\n",
    "              '35  INSECT AND RODENT CONTROL',\n",
    "              '35  INSECT/RODENT CONTROL, OUTER OPENING PROTECTED']\n",
    "newString7 = 'Pest Control'\n",
    "restInspectAnchorage_df['violation_description'].replace(oldString7, newString7, inplace=True)\n",
    "restInspectAnchorage_df.head(60)"
   ]
  },
  {
   "cell_type": "code",
   "execution_count": null,
   "id": "918ec411",
   "metadata": {},
   "outputs": [],
   "source": [
    "#Replacement: Wholesome, Free of Spoilage - 8\n",
    "oldString8 = ['FOOD IN GOOD CONDITION, SAFE, UNADULTERATED',\n",
    "              'Food in good condition, safe and unadulterated',\n",
    "              'PREVIOUSLY SERVED AND UNSAFE FOOD']\n",
    "newString8 = 'Wholesome, Free of Spoilage'\n",
    "restInspectAnchorage_df['violation_description'].replace(oldString8, newString8, inplace=True)\n",
    "restInspectAnchorage_df.head(60)"
   ]
  },
  {
   "cell_type": "code",
   "execution_count": null,
   "id": "6df3bad5",
   "metadata": {},
   "outputs": [],
   "source": [
    "#Replacement: Sanitation Rinse - 9\n",
    "oldString9 = ['19 WASH, RINSE WATER CLEAN, PROPER TEMPERATURE']\n",
    "newString9 = 'Sanitation Rinse'\n",
    "restInspectAnchorage_df['violation_description'].replace(oldString9, newString9, inplace=True)\n",
    "restInspectAnchorage_df.head(60)"
   ]
  },
  {
   "cell_type": "code",
   "execution_count": null,
   "id": "b08b7663",
   "metadata": {},
   "outputs": [],
   "source": [
    "#Replacement: Equipment Design, Construction - 10\n",
    "oldString10 = ['14  FOOD CONTACT SURFACES IN GOOD REPAIR',\n",
    "               'Food- & nonfood-contact surfaces cleanable, proper',\n",
    "               '15  NON-FOOD CONTACT SURFACES IN GOOD REPAIR',\n",
    "               'SURFACES CLEANABLE, DESIGN, CONSTRUCTED, USED']\n",
    "newString10 = 'Equipment Design, Construction'\n",
    "restInspectAnchorage_df['violation_description'].replace(oldString10, newString10, inplace=True)\n",
    "restInspectAnchorage_df.head(60)"
   ]
  },
  {
   "cell_type": "code",
   "execution_count": null,
   "id": "1aaeff54",
   "metadata": {},
   "outputs": [],
   "source": [
    "#Replacement: Consumer Advisory for Service of Raw/Undercooked Animal Foods - 11\n",
    "oldString11 = ['F7X - Consumer advisory (raw foods)',\n",
    "               'CONSUMER ADVISORY FOR RAW OR UNDERCOOKED FOODS',\n",
    "               'F2X - Raw separate from RTE']\n",
    "newString11 = 'Consumer Advisory for Service of Raw/Undercooked Animal Foods'\n",
    "restInspectAnchorage_df['violation_description'].replace(oldString11, newString11, inplace=True)\n",
    "restInspectAnchorage_df.head(60)"
   ]
  },
  {
   "cell_type": "code",
   "execution_count": null,
   "id": "1ab38658",
   "metadata": {},
   "outputs": [],
   "source": [
    "#Replacement: Utensils, Single-service Articles - 12\n",
    "oldString12 = ['UNTENSILS, EQUIPMENT, LINENS, STORAGE AND USE',\n",
    "               '24  STORAGE, HANDLING OF CLEAN EQUIPMENT/UTENSILS',\n",
    "               'In-use utensils: properly stored', \n",
    "               '10  IN-USE FOOD AND ICE UTENSILS PROPERLY STORED',\n",
    "               'IN USE UTENSILS PROPERLY STORED',\n",
    "               '26  NO RE-USE OF SINGLE SERVICE ARTICLES',\n",
    "               'Single-use & single-service articles: properly sto',\n",
    "               'SINGLE-SERVICE ITEMS PROPERLY STORED, USED',\n",
    "               '25  SINGLE SERVICE ARTICLES STORED, USED PROPERLY']\n",
    "newString12 = 'Utensils, Single-service Articles'\n",
    "restInspectAnchorage_df['violation_description'].replace(oldString12, newString12, inplace=True)\n",
    "restInspectAnchorage_df.head(60)"
   ]
  },
  {
   "cell_type": "code",
   "execution_count": null,
   "id": "8db9e151",
   "metadata": {},
   "outputs": [],
   "source": [
    "#Replacement: Testing Devices - 13\n",
    "oldString13 = ['WORKING GAUGES AND CHEMICAL TEST KITS']\n",
    "newString13 = 'Testing Devices'\n",
    "restInspectAnchorage_df['violation_description'].replace(oldString13, newString13, inplace=True)\n",
    "restInspectAnchorage_df.head(60)"
   ]
  },
  {
   "cell_type": "code",
   "execution_count": null,
   "id": "54dee9a0",
   "metadata": {},
   "outputs": [],
   "source": [
    "#Replacement: Physical Facilities - 14\n",
    "oldString14 = ['PHYSICAL FACILITIES INSTALLED, MAINTAINED, CLEAN',\n",
    "               'TOILET FACILITIES CONSTRUCTED, SUPPLIED, CLEANED',\n",
    "               'Physical facilities installed, maintained, & clean',\n",
    "               'Toilet facilities: properly constructed, supplied',\n",
    "               '29  PLUMBING INSTALLED AND MAINTAINED PROPERLY',\n",
    "               '05  Piping - water velocity, color coded',\n",
    "               '07  Plumbing meets uniform plumbing code',\n",
    "               '19  Lighting and ventilation provided/adequate',\n",
    "               'Adequate ventilation & lighting; designated areas',\n",
    "               'ADEQUATE VENTILATION, LIGHTING, DESIGNATED AREAS',\n",
    "               '39  ROOMS AND EQUIPMENT: VENTED AS REQUIRED',\n",
    "               'GARBAGE/REFUSE PROPERLY DISPOSED',\n",
    "               '34  OUTSIDE REFUSE AREA ENCLOSURES CLEAN, PROVIDED',\n",
    "               'Garbage & refuse properly disposed: facilities mai',\n",
    "               '33  GARBAGE DISPOSAL:  PROPER, ADEQUATE NUMBER',\n",
    "               'FLOORS, WALLS, CEILINGS',\n",
    "               'FOOD HANDLING, STORAGE, SERVICE PREVENT CONTAMINATION; AREAS CLEAN AND GOOD REPAIR; VENTALIAITON',\n",
    "                'ORDERLY, CLEAN, SAFE',\n",
    "               '14  Premesis: clean, good repair, well drained',\n",
    "               '42  PREMISES MAINTAINED, FREE OF UNNECESSARY ITEMS',\n",
    "               '15  Decks & floor sanitized daily', \n",
    "               '38  PROPER LIGHTING, FIXTURE SHIELDS AS REQUIRED',\n",
    "               '37   WALLS & CEILINGS CLEAN AND IN GOOD REPAIR',\n",
    "               '36  FLOORS CLEAN AND IN GOOD REPAIR',\n",
    "               '17 Dressing rooms: layout, lighting, vented, clean',\n",
    "               '43  LIVING/SLEEPING QUARTERS & LAUNDRY SEPARATE',\n",
    "               '40  DRESSING ROOMS AND LOCKERS PROVIDED, CLEAN',\n",
    "               '16  Sanitary facilities: provided, maintained',\n",
    "               'SANITIZATION, TEMPERATURE CHEMICALS',\n",
    "               '20  PROPER SANITIZATION, TEMPERATURE, CHEMICALS',\n",
    "               '20  SANITIZATION, TEMPERATURE CHEMICALS',\n",
    "               'F5X - FCS cleaned and sanitized'\n",
    "]\n",
    "newString14 = 'Physical Facilities'\n",
    "restInspectAnchorage_df['violation_description'].replace(oldString14, newString14, inplace=True)\n",
    "restInspectAnchorage_df.head(60)\n"
   ]
  },
  {
   "cell_type": "code",
   "execution_count": null,
   "id": "0b421ef5",
   "metadata": {},
   "outputs": [],
   "source": [
    "#Replacement: Temperature Control Equipment - 15\n",
    "oldString15 = ['THERMOMETERS PROVIDED AND ACCURATE',\n",
    "               '17  ACCURATE THERMOMETERS AND CHEMICAL TEST KITS',\n",
    "               '05  THERMOMETERS PROVIDED AND CONSPICUOUS',\n",
    "               'Thermometers provided & accurate',\n",
    "               '04  EQUIPMENT TO MAINTAIN FOOD TEMPERATURE']\n",
    "newString15 = 'Temperature Control Equipment '\n",
    "restInspectAnchorage_df['violation_description'].replace(oldString15, newString15, inplace=True)\n",
    "restInspectAnchorage_df.head(60)"
   ]
  },
  {
   "cell_type": "code",
   "execution_count": null,
   "id": "ea4c898f",
   "metadata": {},
   "outputs": [],
   "source": [
    "#Replacement: No Bare-hand Contact - 16\n",
    "oldString16 = ['BARE HAND CONTACT WITH READY TO EAT FOOD',\n",
    "               'No bare hand contact with ready-to-eat foods or ap',\n",
    "               '09  HANDLING OF FOOD AND ICE MINIMIZED']\n",
    "newString16 = 'No Bare-hand Contact'\n",
    "restInspectAnchorage_df['violation_description'].replace(oldString16, newString16, inplace=True)\n",
    "restInspectAnchorage_df.head(60)"
   ]
  },
  {
   "cell_type": "code",
   "execution_count": null,
   "id": "c5ea4d3f",
   "metadata": {},
   "outputs": [],
   "source": [
    "#Replacement: Food Labeling, Food Protection - 17\n",
    "oldString17 = ['FOOD PROTECTED FROM Cross-contamination',\n",
    "               'FOOD PROPERLY LABELED, ORIGINAL CONTAINER',\n",
    "               '02  ORIGINAL CONTAINER, PROPERLY LABELED',\n",
    "               'FOOD PROTECTION',\n",
    "               'Contamination prevented during food preparation, s',\n",
    "               '08  FOOD PROTECTED FROM CROSS CONTAMINATION',\n",
    "               'FOOD PROTECTED FROM CONTAMINATION']\n",
    "newString17 = 'Food Labeling, Food Protection'\n",
    "restInspectAnchorage_df['violation_description'].replace(oldString17, newString17, inplace=True)\n",
    "restInspectAnchorage_df.head(60)"
   ]
  },
  {
   "cell_type": "code",
   "execution_count": null,
   "id": "69aa58bf",
   "metadata": {},
   "outputs": [],
   "source": [
    "#Replacement: Date Marking - 18\n",
    "oldString18 = ['PROPER DATE MARKING AND DISPOSITION',\n",
    "               'Proper date marking and disposition']\n",
    "newString18 = 'Date Marking'\n",
    "restInspectAnchorage_df['violation_description'].replace(oldString18, newString18, inplace=True)\n",
    "restInspectAnchorage_df.head(60)"
   ]
  },
  {
   "cell_type": "code",
   "execution_count": null,
   "id": "22ac4300",
   "metadata": {},
   "outputs": [],
   "source": [
    "#Replacement: Hygenic Practices - 19\n",
    "oldString19 = ['PERSONAL CLEANLINESS',\n",
    "               'EATING, DRINKING, TOBACCO USE',\n",
    "               'Proper eating, tasting, drinking or tobacco use',\n",
    "               'HYGIENE, CERTIFICATION']\n",
    "newString19 = 'Hygenic Practices'\n",
    "restInspectAnchorage_df['violation_description'].replace(oldString19, newString19, inplace=True)\n",
    "restInspectAnchorage_df.head(60)"
   ]
  },
  {
   "cell_type": "code",
   "execution_count": null,
   "id": "293c4b00",
   "metadata": {},
   "outputs": [],
   "source": [
    "#Replacement: Poisonous or Toxic Items - 20\n",
    "oldString20 = ['TOXIC SUBSTANCES PROPERLY IDENTIFIED, STORED, USED',\n",
    "               'Toxic substances properly identified, stored, used',\n",
    "               '41  NECESSARY TOXIC ITEMS PROPERLY STORED, LABELED',\n",
    "               'Toxic substances properly identified, stored, and']\n",
    "newString20 = 'Poisonous or Toxic Items'\n",
    "restInspectAnchorage_df['violation_description'].replace(oldString20, newString20, inplace=True)\n",
    "restInspectAnchorage_df.head(60)"
   ]
  },
  {
   "cell_type": "code",
   "execution_count": null,
   "id": "045e3839",
   "metadata": {},
   "outputs": [],
   "source": [
    "#Replacement: Other Operations - 21\n",
    "oldString21 = ['44  CLEAN & SOILED LINEN PROPERLY STORED']\n",
    "newString21 = 'Other Operations'\n",
    "restInspectAnchorage_df['violation_description'].replace(oldString21, newString21, inplace=True)\n",
    "restInspectAnchorage_df.head(60)"
   ]
  },
  {
   "cell_type": "code",
   "execution_count": null,
   "id": "42029fdd",
   "metadata": {},
   "outputs": [],
   "source": [
    "#Replacement: Demonstration of Knowledge - 22\n",
    "oldString22 = ['DEMONSTRATION OF KNOWLEDGE',\n",
    "               'Person in charge present, demonstrates knowledge, and performs duties',\n",
    "               'Management awareness; policy present',\n",
    "               '13  Records kept, operation manual on site',\n",
    "               'Required records available: shellstock tags, paras',\n",
    "               'RECORDS, SHELLSTOCK TAGS, PARASITE DESTRUCTION']\n",
    "newString22 = 'Demonstration of Knowledge'\n",
    "restInspectAnchorage_df['violation_description'].replace(oldString22, newString22, inplace=True)\n",
    "restInspectAnchorage_df.head(60)"
   ]
  },
  {
   "cell_type": "code",
   "execution_count": null,
   "id": "f2e2276e",
   "metadata": {},
   "outputs": [],
   "source": [
    "#Replacement: Cross-contamination - 23\n",
    "oldString23 = ['WASHING FRUITS AND VEGETABLES',\n",
    "               'Washing fruits & vegetables']\n",
    "newString23 = 'Cross-contamination'\n",
    "restInspectAnchorage_df['violation_description'].replace(oldString23, newString23, inplace=True)\n",
    "restInspectAnchorage_df.head(60)"
   ]
  },
  {
   "cell_type": "code",
   "execution_count": null,
   "id": "bd84f88d",
   "metadata": {},
   "outputs": [],
   "source": [
    "#Replacement: Hazard Analysis Critical Control Point (HACCP) Plan - 24\n",
    "oldString24 = ['Compliance with variance, specialized process, and',\n",
    "               'VARIANCE FOR SPECIALIZED PROCESSING METHODS',\n",
    "               'COMPLIANCE WITH VARIANCE, HACCP PLAN']\n",
    "newString24 = 'HACCP Plan'\n",
    "restInspectAnchorage_df['violation_description'].replace(oldString24, newString24, inplace=True)\n",
    "restInspectAnchorage_df.head(60)"
   ]
  },
  {
   "cell_type": "code",
   "execution_count": null,
   "id": "567cf457",
   "metadata": {},
   "outputs": [],
   "source": [
    "restInspectAnchorage_df['violation_description'].unique()"
   ]
  },
  {
   "cell_type": "code",
   "execution_count": null,
   "id": "04870e73",
   "metadata": {},
   "outputs": [],
   "source": [
    "#restInspectAnchorage_df = restInspectAnchorage_df.drop_duplicates()"
   ]
  },
  {
   "cell_type": "code",
   "execution_count": null,
   "id": "b42c6d41",
   "metadata": {},
   "outputs": [],
   "source": [
    "#restInspectAnchorage_df = restInspectAnchorage_df.dropna()"
   ]
  },
  {
   "cell_type": "code",
   "execution_count": null,
   "id": "23e56df8",
   "metadata": {},
   "outputs": [],
   "source": [
    "#restInspectAnchorage_df.nunique()"
   ]
  },
  {
   "cell_type": "code",
   "execution_count": null,
   "id": "0e7ea53f",
   "metadata": {},
   "outputs": [],
   "source": [
    "#restInspectAnchorage_df.info()"
   ]
  },
  {
   "cell_type": "code",
   "execution_count": null,
   "id": "6a773d89",
   "metadata": {},
   "outputs": [],
   "source": []
  }
 ],
 "metadata": {
  "kernelspec": {
   "display_name": "Python 3 (ipykernel)",
   "language": "python",
   "name": "python3"
  },
  "language_info": {
   "codemirror_mode": {
    "name": "ipython",
    "version": 3
   },
   "file_extension": ".py",
   "mimetype": "text/x-python",
   "name": "python",
   "nbconvert_exporter": "python",
   "pygments_lexer": "ipython3",
   "version": "3.9.7"
  }
 },
 "nbformat": 4,
 "nbformat_minor": 5
}
